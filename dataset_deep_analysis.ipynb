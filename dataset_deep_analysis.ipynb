{
  "nbformat": 4,
  "nbformat_minor": 0,
  "metadata": {
    "kernelspec": {
      "language": "python",
      "display_name": "Python 3",
      "name": "python3"
    },
    "language_info": {
      "pygments_lexer": "ipython3",
      "nbconvert_exporter": "python",
      "version": "3.6.4",
      "file_extension": ".py",
      "codemirror_mode": {
        "name": "ipython",
        "version": 3
      },
      "name": "python",
      "mimetype": "text/x-python"
    },
    "colab": {
      "name": "dataset_deep_analysis.ipynb",
      "provenance": [],
      "include_colab_link": true
    }
  },
  "cells": [
    {
      "cell_type": "markdown",
      "metadata": {
        "id": "view-in-github",
        "colab_type": "text"
      },
      "source": [
        "<a href=\"https://colab.research.google.com/github/finesaaa/clustering-assignment/blob/main/dataset_deep_analysis.ipynb\" target=\"_parent\"><img src=\"https://colab.research.google.com/assets/colab-badge.svg\" alt=\"Open In Colab\"/></a>"
      ]
    },
    {
      "cell_type": "markdown",
      "metadata": {
        "_uuid": "8f2839f25d086af736a60e9eeb907d3b93b6e0e5",
        "_cell_guid": "b1076dfc-b9ad-4769-8c92-a6c4dae69d19",
        "execution": {
          "iopub.status.busy": "2021-09-14T10:11:53.358471Z",
          "iopub.execute_input": "2021-09-14T10:11:53.359368Z",
          "iopub.status.idle": "2021-09-14T10:11:53.378638Z",
          "shell.execute_reply.started": "2021-09-14T10:11:53.359248Z",
          "shell.execute_reply": "2021-09-14T10:11:53.377866Z"
        },
        "id": "CmE4eOWuJCtu"
      },
      "source": [
        "**Hey there!** \n",
        "\n",
        "Thanks for stopping by and taking a look at this notebook. I would be really grateful if you could spend some time on the notebook and give me some areas of improvement. Looking forward to learning from you. \n",
        "\n",
        "**Cheers,\n",
        "Komal**"
      ]
    },
    {
      "cell_type": "code",
      "metadata": {
        "id": "DEVqNbMmJCtx"
      },
      "source": [
        "# This Python 3 environment comes with many helpful analytics libraries installed\n",
        "# It is defined by the kaggle/python Docker image: https://github.com/kaggle/docker-python\n",
        "# For example, here's several helpful packages to load\n",
        "\n",
        "import numpy as np # linear algebra\n",
        "import pandas as pd # data processing, CSV file I/O (e.g. pd.read_csv)\n",
        "\n",
        "# Input data files are available in the read-only \"../input/\" directory\n",
        "# For example, running this (by clicking run or pressing Shift+Enter) will list all files under the input directory\n",
        "\n",
        "import os\n",
        "for dirname, _, filenames in os.walk('/kaggle/input'):\n",
        "    for filename in filenames:\n",
        "        print(os.path.join(dirname, filename))\n",
        "\n",
        "# You can write up to 20GB to the current directory (/kaggle/working/) that gets preserved as output when you create a version using \"Save & Run All\" \n",
        "# You can also write temporary files to /kaggle/temp/, but they won't be saved outside of the current session"
      ],
      "execution_count": 33,
      "outputs": []
    },
    {
      "cell_type": "code",
      "metadata": {
        "execution": {
          "iopub.status.busy": "2021-09-14T10:11:57.75285Z",
          "iopub.execute_input": "2021-09-14T10:11:57.753793Z",
          "iopub.status.idle": "2021-09-14T10:11:59.227901Z",
          "shell.execute_reply.started": "2021-09-14T10:11:57.753754Z",
          "shell.execute_reply": "2021-09-14T10:11:59.227126Z"
        },
        "trusted": true,
        "id": "nklchKLxJCty"
      },
      "source": [
        "import pandas as pd\n",
        "import numpy as np\n",
        "import plotly.express as px\n",
        "import seaborn as sns\n",
        "import matplotlib.pyplot as plt\n",
        "from palettable.colorbrewer.qualitative import Pastel1_7\n",
        "from sklearn.preprocessing import MinMaxScaler\n",
        "from imblearn.over_sampling import SMOTE \n",
        "from sklearn.model_selection import train_test_split\n",
        "from sklearn.ensemble import RandomForestClassifier\n",
        "from sklearn.metrics import accuracy_score, recall_score, confusion_matrix\n",
        "from sklearn.metrics import f1_score"
      ],
      "execution_count": 34,
      "outputs": []
    },
    {
      "cell_type": "code",
      "metadata": {
        "execution": {
          "iopub.status.busy": "2021-09-14T10:12:02.35821Z",
          "iopub.execute_input": "2021-09-14T10:12:02.358515Z",
          "iopub.status.idle": "2021-09-14T10:12:02.484376Z",
          "shell.execute_reply.started": "2021-09-14T10:12:02.358483Z",
          "shell.execute_reply": "2021-09-14T10:12:02.483577Z"
        },
        "trusted": true,
        "colab": {
          "base_uri": "https://localhost:8080/",
          "height": 206
        },
        "id": "JINta-44JCtz",
        "outputId": "305284ce-46d9-48e5-ab72-c39874b3a889"
      },
      "source": [
        "df=pd.read_csv('travel insurance.csv')\n",
        "df.head()"
      ],
      "execution_count": 35,
      "outputs": [
        {
          "output_type": "execute_result",
          "data": {
            "text/html": [
              "<div>\n",
              "<style scoped>\n",
              "    .dataframe tbody tr th:only-of-type {\n",
              "        vertical-align: middle;\n",
              "    }\n",
              "\n",
              "    .dataframe tbody tr th {\n",
              "        vertical-align: top;\n",
              "    }\n",
              "\n",
              "    .dataframe thead th {\n",
              "        text-align: right;\n",
              "    }\n",
              "</style>\n",
              "<table border=\"1\" class=\"dataframe\">\n",
              "  <thead>\n",
              "    <tr style=\"text-align: right;\">\n",
              "      <th></th>\n",
              "      <th>Agency</th>\n",
              "      <th>Agency Type</th>\n",
              "      <th>Distribution Channel</th>\n",
              "      <th>Product Name</th>\n",
              "      <th>Claim</th>\n",
              "      <th>Duration</th>\n",
              "      <th>Destination</th>\n",
              "      <th>Net Sales</th>\n",
              "      <th>Commision (in value)</th>\n",
              "      <th>Gender</th>\n",
              "      <th>Age</th>\n",
              "    </tr>\n",
              "  </thead>\n",
              "  <tbody>\n",
              "    <tr>\n",
              "      <th>0</th>\n",
              "      <td>CBH</td>\n",
              "      <td>Travel Agency</td>\n",
              "      <td>Offline</td>\n",
              "      <td>Comprehensive Plan</td>\n",
              "      <td>No</td>\n",
              "      <td>186</td>\n",
              "      <td>MALAYSIA</td>\n",
              "      <td>-29.0</td>\n",
              "      <td>9.57</td>\n",
              "      <td>F</td>\n",
              "      <td>81</td>\n",
              "    </tr>\n",
              "    <tr>\n",
              "      <th>1</th>\n",
              "      <td>CBH</td>\n",
              "      <td>Travel Agency</td>\n",
              "      <td>Offline</td>\n",
              "      <td>Comprehensive Plan</td>\n",
              "      <td>No</td>\n",
              "      <td>186</td>\n",
              "      <td>MALAYSIA</td>\n",
              "      <td>-29.0</td>\n",
              "      <td>9.57</td>\n",
              "      <td>F</td>\n",
              "      <td>71</td>\n",
              "    </tr>\n",
              "    <tr>\n",
              "      <th>2</th>\n",
              "      <td>CWT</td>\n",
              "      <td>Travel Agency</td>\n",
              "      <td>Online</td>\n",
              "      <td>Rental Vehicle Excess Insurance</td>\n",
              "      <td>No</td>\n",
              "      <td>65</td>\n",
              "      <td>AUSTRALIA</td>\n",
              "      <td>-49.5</td>\n",
              "      <td>29.70</td>\n",
              "      <td>NaN</td>\n",
              "      <td>32</td>\n",
              "    </tr>\n",
              "    <tr>\n",
              "      <th>3</th>\n",
              "      <td>CWT</td>\n",
              "      <td>Travel Agency</td>\n",
              "      <td>Online</td>\n",
              "      <td>Rental Vehicle Excess Insurance</td>\n",
              "      <td>No</td>\n",
              "      <td>60</td>\n",
              "      <td>AUSTRALIA</td>\n",
              "      <td>-39.6</td>\n",
              "      <td>23.76</td>\n",
              "      <td>NaN</td>\n",
              "      <td>32</td>\n",
              "    </tr>\n",
              "    <tr>\n",
              "      <th>4</th>\n",
              "      <td>CWT</td>\n",
              "      <td>Travel Agency</td>\n",
              "      <td>Online</td>\n",
              "      <td>Rental Vehicle Excess Insurance</td>\n",
              "      <td>No</td>\n",
              "      <td>79</td>\n",
              "      <td>ITALY</td>\n",
              "      <td>-19.8</td>\n",
              "      <td>11.88</td>\n",
              "      <td>NaN</td>\n",
              "      <td>41</td>\n",
              "    </tr>\n",
              "  </tbody>\n",
              "</table>\n",
              "</div>"
            ],
            "text/plain": [
              "  Agency    Agency Type Distribution Channel  ... Commision (in value) Gender  Age\n",
              "0    CBH  Travel Agency              Offline  ...                 9.57      F   81\n",
              "1    CBH  Travel Agency              Offline  ...                 9.57      F   71\n",
              "2    CWT  Travel Agency               Online  ...                29.70    NaN   32\n",
              "3    CWT  Travel Agency               Online  ...                23.76    NaN   32\n",
              "4    CWT  Travel Agency               Online  ...                11.88    NaN   41\n",
              "\n",
              "[5 rows x 11 columns]"
            ]
          },
          "metadata": {},
          "execution_count": 35
        }
      ]
    },
    {
      "cell_type": "code",
      "metadata": {
        "execution": {
          "iopub.status.busy": "2021-09-14T10:12:04.583313Z",
          "iopub.execute_input": "2021-09-14T10:12:04.583627Z",
          "iopub.status.idle": "2021-09-14T10:12:04.590587Z",
          "shell.execute_reply.started": "2021-09-14T10:12:04.583595Z",
          "shell.execute_reply": "2021-09-14T10:12:04.589402Z"
        },
        "trusted": true,
        "colab": {
          "base_uri": "https://localhost:8080/"
        },
        "id": "3XPpXmpCJCtz",
        "outputId": "79cd66ca-e948-4c9d-ad11-f7e46cd55636"
      },
      "source": [
        "df.shape"
      ],
      "execution_count": 36,
      "outputs": [
        {
          "output_type": "execute_result",
          "data": {
            "text/plain": [
              "(63326, 11)"
            ]
          },
          "metadata": {},
          "execution_count": 36
        }
      ]
    },
    {
      "cell_type": "markdown",
      "metadata": {
        "id": "E7gjzEjuJCt0"
      },
      "source": [
        "*Dataset has 11 columns and 63326 rows. Out of the 11 columns, Claim is a target variable.*"
      ]
    },
    {
      "cell_type": "code",
      "metadata": {
        "execution": {
          "iopub.status.busy": "2021-09-14T10:12:06.903243Z",
          "iopub.execute_input": "2021-09-14T10:12:06.904064Z",
          "iopub.status.idle": "2021-09-14T10:12:06.911089Z",
          "shell.execute_reply.started": "2021-09-14T10:12:06.904014Z",
          "shell.execute_reply": "2021-09-14T10:12:06.910159Z"
        },
        "trusted": true,
        "colab": {
          "base_uri": "https://localhost:8080/"
        },
        "id": "B1uUYCCjJCt0",
        "outputId": "fd282257-6ee4-45bc-ffc4-915d21abb31a"
      },
      "source": [
        "df.columns"
      ],
      "execution_count": 37,
      "outputs": [
        {
          "output_type": "execute_result",
          "data": {
            "text/plain": [
              "Index(['Agency', 'Agency Type', 'Distribution Channel', 'Product Name',\n",
              "       'Claim', 'Duration', 'Destination', 'Net Sales', 'Commision (in value)',\n",
              "       'Gender', 'Age'],\n",
              "      dtype='object')"
            ]
          },
          "metadata": {},
          "execution_count": 37
        }
      ]
    },
    {
      "cell_type": "markdown",
      "metadata": {
        "id": "v_Hn_L_bJCt0"
      },
      "source": [
        "All the column names are listed above. Since there is whitespace between the 2 word column names, let's rename the column names to avoid any naming issues."
      ]
    },
    {
      "cell_type": "code",
      "metadata": {
        "execution": {
          "iopub.status.busy": "2021-09-14T10:12:10.263083Z",
          "iopub.execute_input": "2021-09-14T10:12:10.26417Z",
          "iopub.status.idle": "2021-09-14T10:12:10.270606Z",
          "shell.execute_reply.started": "2021-09-14T10:12:10.264115Z",
          "shell.execute_reply": "2021-09-14T10:12:10.269656Z"
        },
        "trusted": true,
        "id": "xnhAwDJjJCt1"
      },
      "source": [
        "df.rename(columns={ 'Agency Type':'Agency_Type', 'Distribution Channel':'Distribution_Channel', 'Product Name':'Product_Name','Net Sales':'Net_Sales', 'Commision (in value)':'Commision'},inplace=True)"
      ],
      "execution_count": 38,
      "outputs": []
    },
    {
      "cell_type": "markdown",
      "metadata": {
        "id": "pY-iD5bMJCt1"
      },
      "source": [
        "The necessary columns have been successfully renamed."
      ]
    },
    {
      "cell_type": "code",
      "metadata": {
        "execution": {
          "iopub.status.busy": "2021-09-14T10:12:12.572863Z",
          "iopub.execute_input": "2021-09-14T10:12:12.573164Z",
          "iopub.status.idle": "2021-09-14T10:12:12.632792Z",
          "shell.execute_reply.started": "2021-09-14T10:12:12.573135Z",
          "shell.execute_reply": "2021-09-14T10:12:12.631878Z"
        },
        "trusted": true,
        "colab": {
          "base_uri": "https://localhost:8080/"
        },
        "id": "aU99igYbJCt2",
        "outputId": "83dfdde5-e9e2-47ad-f104-53de95e80bba"
      },
      "source": [
        "df.info()"
      ],
      "execution_count": 39,
      "outputs": [
        {
          "output_type": "stream",
          "name": "stdout",
          "text": [
            "<class 'pandas.core.frame.DataFrame'>\n",
            "RangeIndex: 63326 entries, 0 to 63325\n",
            "Data columns (total 11 columns):\n",
            " #   Column                Non-Null Count  Dtype  \n",
            "---  ------                --------------  -----  \n",
            " 0   Agency                63326 non-null  object \n",
            " 1   Agency_Type           63326 non-null  object \n",
            " 2   Distribution_Channel  63326 non-null  object \n",
            " 3   Product_Name          63326 non-null  object \n",
            " 4   Claim                 63326 non-null  object \n",
            " 5   Duration              63326 non-null  int64  \n",
            " 6   Destination           63326 non-null  object \n",
            " 7   Net_Sales             63326 non-null  float64\n",
            " 8   Commision             63326 non-null  float64\n",
            " 9   Gender                18219 non-null  object \n",
            " 10  Age                   63326 non-null  int64  \n",
            "dtypes: float64(2), int64(2), object(7)\n",
            "memory usage: 5.3+ MB\n"
          ]
        }
      ]
    },
    {
      "cell_type": "markdown",
      "metadata": {
        "id": "07DgfUSUJCt2"
      },
      "source": [
        "From the info, we know that there are 4 numerical columns while 7 are categorical."
      ]
    },
    {
      "cell_type": "markdown",
      "metadata": {
        "id": "OP9qn2HFJCt2"
      },
      "source": [
        ""
      ]
    },
    {
      "cell_type": "code",
      "metadata": {
        "execution": {
          "iopub.status.busy": "2021-09-14T10:12:15.042896Z",
          "iopub.execute_input": "2021-09-14T10:12:15.043764Z",
          "iopub.status.idle": "2021-09-14T10:12:15.098651Z",
          "shell.execute_reply.started": "2021-09-14T10:12:15.043711Z",
          "shell.execute_reply": "2021-09-14T10:12:15.097837Z"
        },
        "trusted": true,
        "colab": {
          "base_uri": "https://localhost:8080/"
        },
        "id": "Wc-ZaXyQJCt2",
        "outputId": "76d264f4-66ca-473b-85c4-2241eab2cc7e"
      },
      "source": [
        "df.isnull().sum().any\n"
      ],
      "execution_count": 40,
      "outputs": [
        {
          "output_type": "execute_result",
          "data": {
            "text/plain": [
              "<bound method Series.any of Agency                      0\n",
              "Agency_Type                 0\n",
              "Distribution_Channel        0\n",
              "Product_Name                0\n",
              "Claim                       0\n",
              "Duration                    0\n",
              "Destination                 0\n",
              "Net_Sales                   0\n",
              "Commision                   0\n",
              "Gender                  45107\n",
              "Age                         0\n",
              "dtype: int64>"
            ]
          },
          "metadata": {},
          "execution_count": 40
        }
      ]
    },
    {
      "cell_type": "code",
      "metadata": {
        "execution": {
          "iopub.status.busy": "2021-09-14T10:12:19.213641Z",
          "iopub.execute_input": "2021-09-14T10:12:19.213955Z",
          "iopub.status.idle": "2021-09-14T10:12:19.237096Z",
          "shell.execute_reply.started": "2021-09-14T10:12:19.213926Z",
          "shell.execute_reply": "2021-09-14T10:12:19.236029Z"
        },
        "trusted": true,
        "colab": {
          "base_uri": "https://localhost:8080/",
          "height": 206
        },
        "id": "8YyAmfWoJCt2",
        "outputId": "6518e66c-3548-447b-9cca-c1b70557abdd"
      },
      "source": [
        "df=df.drop(['Gender'], axis=1)\n",
        "df.head()"
      ],
      "execution_count": 41,
      "outputs": [
        {
          "output_type": "execute_result",
          "data": {
            "text/html": [
              "<div>\n",
              "<style scoped>\n",
              "    .dataframe tbody tr th:only-of-type {\n",
              "        vertical-align: middle;\n",
              "    }\n",
              "\n",
              "    .dataframe tbody tr th {\n",
              "        vertical-align: top;\n",
              "    }\n",
              "\n",
              "    .dataframe thead th {\n",
              "        text-align: right;\n",
              "    }\n",
              "</style>\n",
              "<table border=\"1\" class=\"dataframe\">\n",
              "  <thead>\n",
              "    <tr style=\"text-align: right;\">\n",
              "      <th></th>\n",
              "      <th>Agency</th>\n",
              "      <th>Agency_Type</th>\n",
              "      <th>Distribution_Channel</th>\n",
              "      <th>Product_Name</th>\n",
              "      <th>Claim</th>\n",
              "      <th>Duration</th>\n",
              "      <th>Destination</th>\n",
              "      <th>Net_Sales</th>\n",
              "      <th>Commision</th>\n",
              "      <th>Age</th>\n",
              "    </tr>\n",
              "  </thead>\n",
              "  <tbody>\n",
              "    <tr>\n",
              "      <th>0</th>\n",
              "      <td>CBH</td>\n",
              "      <td>Travel Agency</td>\n",
              "      <td>Offline</td>\n",
              "      <td>Comprehensive Plan</td>\n",
              "      <td>No</td>\n",
              "      <td>186</td>\n",
              "      <td>MALAYSIA</td>\n",
              "      <td>-29.0</td>\n",
              "      <td>9.57</td>\n",
              "      <td>81</td>\n",
              "    </tr>\n",
              "    <tr>\n",
              "      <th>1</th>\n",
              "      <td>CBH</td>\n",
              "      <td>Travel Agency</td>\n",
              "      <td>Offline</td>\n",
              "      <td>Comprehensive Plan</td>\n",
              "      <td>No</td>\n",
              "      <td>186</td>\n",
              "      <td>MALAYSIA</td>\n",
              "      <td>-29.0</td>\n",
              "      <td>9.57</td>\n",
              "      <td>71</td>\n",
              "    </tr>\n",
              "    <tr>\n",
              "      <th>2</th>\n",
              "      <td>CWT</td>\n",
              "      <td>Travel Agency</td>\n",
              "      <td>Online</td>\n",
              "      <td>Rental Vehicle Excess Insurance</td>\n",
              "      <td>No</td>\n",
              "      <td>65</td>\n",
              "      <td>AUSTRALIA</td>\n",
              "      <td>-49.5</td>\n",
              "      <td>29.70</td>\n",
              "      <td>32</td>\n",
              "    </tr>\n",
              "    <tr>\n",
              "      <th>3</th>\n",
              "      <td>CWT</td>\n",
              "      <td>Travel Agency</td>\n",
              "      <td>Online</td>\n",
              "      <td>Rental Vehicle Excess Insurance</td>\n",
              "      <td>No</td>\n",
              "      <td>60</td>\n",
              "      <td>AUSTRALIA</td>\n",
              "      <td>-39.6</td>\n",
              "      <td>23.76</td>\n",
              "      <td>32</td>\n",
              "    </tr>\n",
              "    <tr>\n",
              "      <th>4</th>\n",
              "      <td>CWT</td>\n",
              "      <td>Travel Agency</td>\n",
              "      <td>Online</td>\n",
              "      <td>Rental Vehicle Excess Insurance</td>\n",
              "      <td>No</td>\n",
              "      <td>79</td>\n",
              "      <td>ITALY</td>\n",
              "      <td>-19.8</td>\n",
              "      <td>11.88</td>\n",
              "      <td>41</td>\n",
              "    </tr>\n",
              "  </tbody>\n",
              "</table>\n",
              "</div>"
            ],
            "text/plain": [
              "  Agency    Agency_Type Distribution_Channel  ... Net_Sales Commision  Age\n",
              "0    CBH  Travel Agency              Offline  ...     -29.0      9.57   81\n",
              "1    CBH  Travel Agency              Offline  ...     -29.0      9.57   71\n",
              "2    CWT  Travel Agency               Online  ...     -49.5     29.70   32\n",
              "3    CWT  Travel Agency               Online  ...     -39.6     23.76   32\n",
              "4    CWT  Travel Agency               Online  ...     -19.8     11.88   41\n",
              "\n",
              "[5 rows x 10 columns]"
            ]
          },
          "metadata": {},
          "execution_count": 41
        }
      ]
    },
    {
      "cell_type": "markdown",
      "metadata": {
        "id": "eIt7QnxqJCt3"
      },
      "source": [
        "The Gender column has been dropped since majority of its values are null."
      ]
    },
    {
      "cell_type": "code",
      "metadata": {
        "execution": {
          "iopub.status.busy": "2021-09-14T10:12:23.203256Z",
          "iopub.execute_input": "2021-09-14T10:12:23.203556Z",
          "iopub.status.idle": "2021-09-14T10:12:23.256249Z",
          "shell.execute_reply.started": "2021-09-14T10:12:23.203524Z",
          "shell.execute_reply": "2021-09-14T10:12:23.255478Z"
        },
        "trusted": true,
        "colab": {
          "base_uri": "https://localhost:8080/"
        },
        "id": "Pz_RY9R1JCt3",
        "outputId": "e62b7e5d-5026-49bc-c24a-75f06a532775"
      },
      "source": [
        "column_keys=df.select_dtypes(include=['object']).columns.tolist()\n",
        "for key in column_keys:\n",
        "    print('Unique elements of',key,'are: ')\n",
        "    print(df[key].unique(),end='\\n')\n",
        "    print(end='\\n')"
      ],
      "execution_count": 42,
      "outputs": [
        {
          "output_type": "stream",
          "name": "stdout",
          "text": [
            "Unique elements of Agency are: \n",
            "['CBH' 'CWT' 'JZI' 'KML' 'EPX' 'C2B' 'JWT' 'RAB' 'SSI' 'ART' 'CSR' 'CCR'\n",
            " 'ADM' 'LWC' 'TTW' 'TST']\n",
            "\n",
            "Unique elements of Agency_Type are: \n",
            "['Travel Agency' 'Airlines']\n",
            "\n",
            "Unique elements of Distribution_Channel are: \n",
            "['Offline' 'Online']\n",
            "\n",
            "Unique elements of Product_Name are: \n",
            "['Comprehensive Plan' 'Rental Vehicle Excess Insurance' 'Value Plan'\n",
            " 'Basic Plan' 'Premier Plan' '2 way Comprehensive Plan' 'Bronze Plan'\n",
            " 'Silver Plan' 'Annual Silver Plan' 'Cancellation Plan'\n",
            " '1 way Comprehensive Plan' 'Ticket Protector' '24 Protect' 'Gold Plan'\n",
            " 'Annual Gold Plan' 'Single Trip Travel Protect Silver'\n",
            " 'Individual Comprehensive Plan' 'Spouse or Parents Comprehensive Plan'\n",
            " 'Annual Travel Protect Silver' 'Single Trip Travel Protect Platinum'\n",
            " 'Annual Travel Protect Gold' 'Single Trip Travel Protect Gold'\n",
            " 'Annual Travel Protect Platinum' 'Child Comprehensive Plan'\n",
            " 'Travel Cruise Protect' 'Travel Cruise Protect Family']\n",
            "\n",
            "Unique elements of Claim are: \n",
            "['No' 'Yes']\n",
            "\n",
            "Unique elements of Destination are: \n",
            "['MALAYSIA' 'AUSTRALIA' 'ITALY' 'UNITED STATES' 'THAILAND'\n",
            " \"KOREA, DEMOCRATIC PEOPLE'S REPUBLIC OF\" 'NORWAY' 'VIET NAM' 'DENMARK'\n",
            " 'SINGAPORE' 'JAPAN' 'UNITED KINGDOM' 'INDONESIA' 'INDIA' 'CHINA' 'FRANCE'\n",
            " 'TAIWAN, PROVINCE OF CHINA' 'PHILIPPINES' 'MYANMAR' 'HONG KONG'\n",
            " 'KOREA, REPUBLIC OF' 'UNITED ARAB EMIRATES' 'NAMIBIA' 'NEW ZEALAND'\n",
            " 'COSTA RICA' 'BRUNEI DARUSSALAM' 'POLAND' 'SPAIN' 'CZECH REPUBLIC'\n",
            " 'GERMANY' 'SRI LANKA' 'CAMBODIA' 'AUSTRIA' 'SOUTH AFRICA'\n",
            " 'TANZANIA, UNITED REPUBLIC OF' \"LAO PEOPLE'S DEMOCRATIC REPUBLIC\" 'NEPAL'\n",
            " 'NETHERLANDS' 'MACAO' 'CROATIA' 'FINLAND' 'CANADA' 'TUNISIA'\n",
            " 'RUSSIAN FEDERATION' 'GREECE' 'BELGIUM' 'IRELAND' 'SWITZERLAND' 'CHILE'\n",
            " 'ISRAEL' 'BANGLADESH' 'ICELAND' 'PORTUGAL' 'ROMANIA' 'KENYA' 'GEORGIA'\n",
            " 'TURKEY' 'SWEDEN' 'MALDIVES' 'ESTONIA' 'SAUDI ARABIA' 'PAKISTAN' 'QATAR'\n",
            " 'PERU' 'LUXEMBOURG' 'MONGOLIA' 'ARGENTINA' 'CYPRUS' 'FIJI' 'BARBADOS'\n",
            " 'TRINIDAD AND TOBAGO' 'ETHIOPIA' 'PAPUA NEW GUINEA' 'SERBIA' 'JORDAN'\n",
            " 'ECUADOR' 'BENIN' 'OMAN' 'BAHRAIN' 'UGANDA' 'BRAZIL' 'MEXICO' 'HUNGARY'\n",
            " 'AZERBAIJAN' 'MOROCCO' 'URUGUAY' 'MAURITIUS' 'JAMAICA' 'KAZAKHSTAN'\n",
            " 'GHANA' 'UZBEKISTAN' 'SLOVENIA' 'KUWAIT' 'GUAM' 'BULGARIA' 'LITHUANIA'\n",
            " 'NEW CALEDONIA' 'EGYPT' 'ARMENIA' 'BOLIVIA' 'VIRGIN ISLANDS, U.S.'\n",
            " 'PANAMA' 'SIERRA LEONE' 'COLOMBIA' 'PUERTO RICO' 'UKRAINE' 'GUINEA'\n",
            " 'GUADELOUPE' 'MOLDOVA, REPUBLIC OF' 'GUYANA' 'LATVIA' 'ZIMBABWE'\n",
            " 'VANUATU' 'VENEZUELA' 'BOTSWANA' 'BERMUDA' 'MALI' 'KYRGYZSTAN'\n",
            " 'CAYMAN ISLANDS' 'MALTA' 'LEBANON' 'REUNION' 'SEYCHELLES' 'ZAMBIA'\n",
            " 'SAMOA' 'NORTHERN MARIANA ISLANDS' 'NIGERIA' 'DOMINICAN REPUBLIC'\n",
            " 'TAJIKISTAN' 'ALBANIA' 'MACEDONIA, THE FORMER YUGOSLAV REPUBLIC OF'\n",
            " 'LIBYAN ARAB JAMAHIRIYA' 'ANGOLA' 'BELARUS' 'TURKS AND CAICOS ISLANDS'\n",
            " 'FAROE ISLANDS' 'TURKMENISTAN' 'GUINEA-BISSAU' 'CAMEROON' 'BHUTAN'\n",
            " 'RWANDA' 'SOLOMON ISLANDS' 'IRAN, ISLAMIC REPUBLIC OF' 'GUATEMALA'\n",
            " 'FRENCH POLYNESIA' 'TIBET' 'SENEGAL' 'REPUBLIC OF MONTENEGRO'\n",
            " 'BOSNIA AND HERZEGOVINA']\n",
            "\n"
          ]
        }
      ]
    },
    {
      "cell_type": "code",
      "metadata": {
        "execution": {
          "iopub.status.busy": "2021-09-14T10:12:26.278306Z",
          "iopub.execute_input": "2021-09-14T10:12:26.278599Z",
          "iopub.status.idle": "2021-09-14T10:12:26.686711Z",
          "shell.execute_reply.started": "2021-09-14T10:12:26.278572Z",
          "shell.execute_reply": "2021-09-14T10:12:26.685764Z"
        },
        "trusted": true,
        "colab": {
          "base_uri": "https://localhost:8080/",
          "height": 542
        },
        "id": "1EBAHUpCJCt3",
        "outputId": "d9a2abee-5c28-4017-b33a-277ef2864a01"
      },
      "source": [
        "df1 = df.groupby(by=[\"Destination\"]).size().reset_index(name=\"counts\")\n",
        "df1.nlargest(15,['counts'])\n",
        "df1['DestinationNew'] = np.where(df1['counts']>1090, df1['Destination'], 'Others')\n",
        "fig = px.pie(df1, values='counts', names='DestinationNew', title='Popular Destinations among insured')\n",
        "fig.show()"
      ],
      "execution_count": 43,
      "outputs": [
        {
          "output_type": "display_data",
          "data": {
            "text/html": [
              "<html>\n",
              "<head><meta charset=\"utf-8\" /></head>\n",
              "<body>\n",
              "    <div>\n",
              "            <script src=\"https://cdnjs.cloudflare.com/ajax/libs/mathjax/2.7.5/MathJax.js?config=TeX-AMS-MML_SVG\"></script><script type=\"text/javascript\">if (window.MathJax) {MathJax.Hub.Config({SVG: {font: \"STIX-Web\"}});}</script>\n",
              "                <script type=\"text/javascript\">window.PlotlyConfig = {MathJaxConfig: 'local'};</script>\n",
              "        <script src=\"https://cdn.plot.ly/plotly-latest.min.js\"></script>    \n",
              "            <div id=\"782372d1-1cf0-4fae-bb65-24141edfc8b4\" class=\"plotly-graph-div\" style=\"height:525px; width:100%;\"></div>\n",
              "            <script type=\"text/javascript\">\n",
              "                \n",
              "                    window.PLOTLYENV=window.PLOTLYENV || {};\n",
              "                    \n",
              "                if (document.getElementById(\"782372d1-1cf0-4fae-bb65-24141edfc8b4\")) {\n",
              "                    Plotly.newPlot(\n",
              "                        '782372d1-1cf0-4fae-bb65-24141edfc8b4',\n",
              "                        [{\"domain\": {\"x\": [0.0, 1.0], \"y\": [0.0, 1.0]}, \"hoverlabel\": {\"namelength\": 0}, \"hovertemplate\": \"DestinationNew=%{label}<br>counts=%{value}\", \"labels\": [\"Others\", \"Others\", \"Others\", \"Others\", \"AUSTRALIA\", \"Others\", \"Others\", \"Others\", \"Others\", \"Others\", \"Others\", \"Others\", \"Others\", \"Others\", \"Others\", \"Others\", \"Others\", \"Others\", \"Others\", \"Others\", \"Others\", \"Others\", \"Others\", \"Others\", \"Others\", \"Others\", \"CHINA\", \"Others\", \"Others\", \"Others\", \"Others\", \"Others\", \"Others\", \"Others\", \"Others\", \"Others\", \"Others\", \"Others\", \"Others\", \"Others\", \"Others\", \"Others\", \"Others\", \"Others\", \"Others\", \"Others\", \"Others\", \"Others\", \"Others\", \"Others\", \"Others\", \"Others\", \"Others\", \"HONG KONG\", \"Others\", \"Others\", \"INDIA\", \"INDONESIA\", \"Others\", \"Others\", \"Others\", \"Others\", \"Others\", \"JAPAN\", \"Others\", \"Others\", \"Others\", \"Others\", \"KOREA, REPUBLIC OF\", \"Others\", \"Others\", \"Others\", \"Others\", \"Others\", \"Others\", \"Others\", \"Others\", \"Others\", \"Others\", \"MALAYSIA\", \"Others\", \"Others\", \"Others\", \"Others\", \"Others\", \"Others\", \"Others\", \"Others\", \"Others\", \"Others\", \"Others\", \"Others\", \"Others\", \"Others\", \"Others\", \"Others\", \"Others\", \"Others\", \"Others\", \"Others\", \"Others\", \"Others\", \"PHILIPPINES\", \"Others\", \"Others\", \"Others\", \"Others\", \"Others\", \"Others\", \"Others\", \"Others\", \"Others\", \"Others\", \"Others\", \"Others\", \"Others\", \"Others\", \"Others\", \"SINGAPORE\", \"Others\", \"Others\", \"Others\", \"Others\", \"Others\", \"Others\", \"Others\", \"Others\", \"Others\", \"Others\", \"THAILAND\", \"Others\", \"Others\", \"Others\", \"Others\", \"Others\", \"Others\", \"Others\", \"Others\", \"Others\", \"UNITED KINGDOM\", \"UNITED STATES\", \"Others\", \"Others\", \"Others\", \"Others\", \"VIET NAM\", \"Others\", \"Others\", \"Others\"], \"legendgroup\": \"\", \"name\": \"\", \"showlegend\": true, \"type\": \"pie\", \"values\": [1, 1, 22, 1, 3694, 102, 8, 13, 101, 1, 3, 46, 1, 3, 4, 10, 1, 1, 37, 780, 12, 493, 1, 528, 2, 12, 4796, 15, 7, 56, 15, 69, 105, 1, 7, 21, 9, 6, 3, 13, 96, 483, 2, 15, 456, 5, 110, 1, 9, 1, 4, 1, 2, 2411, 23, 117, 2251, 3452, 3, 123, 48, 455, 3, 2061, 16, 15, 21, 1, 1479, 8, 6, 149, 3, 5, 1, 5, 9, 110, 3, 5930, 25, 2, 11, 11, 33, 1, 44, 15, 806, 5, 120, 375, 1, 537, 1, 2, 164, 18, 29, 4, 11, 92, 2490, 34, 96, 3, 17, 1, 2, 23, 80, 1, 1, 62, 1, 7, 1, 1, 13255, 10, 1, 162, 337, 256, 64, 283, 1090, 1, 21, 5894, 1, 4, 7, 80, 2, 1, 4, 10, 286, 1309, 2530, 1, 10, 5, 5, 1669, 1, 3, 3]}],\n",
              "                        {\"legend\": {\"tracegroupgap\": 0}, \"template\": {\"data\": {\"bar\": [{\"error_x\": {\"color\": \"#2a3f5f\"}, \"error_y\": {\"color\": \"#2a3f5f\"}, \"marker\": {\"line\": {\"color\": \"#E5ECF6\", \"width\": 0.5}}, \"type\": \"bar\"}], \"barpolar\": [{\"marker\": {\"line\": {\"color\": \"#E5ECF6\", \"width\": 0.5}}, \"type\": \"barpolar\"}], \"carpet\": [{\"aaxis\": {\"endlinecolor\": \"#2a3f5f\", \"gridcolor\": \"white\", \"linecolor\": \"white\", \"minorgridcolor\": \"white\", \"startlinecolor\": \"#2a3f5f\"}, \"baxis\": {\"endlinecolor\": \"#2a3f5f\", \"gridcolor\": \"white\", \"linecolor\": \"white\", \"minorgridcolor\": \"white\", \"startlinecolor\": \"#2a3f5f\"}, \"type\": \"carpet\"}], \"choropleth\": [{\"colorbar\": {\"outlinewidth\": 0, \"ticks\": \"\"}, \"type\": \"choropleth\"}], \"contour\": [{\"colorbar\": {\"outlinewidth\": 0, \"ticks\": \"\"}, \"colorscale\": [[0.0, \"#0d0887\"], [0.1111111111111111, \"#46039f\"], [0.2222222222222222, \"#7201a8\"], [0.3333333333333333, \"#9c179e\"], [0.4444444444444444, \"#bd3786\"], [0.5555555555555556, \"#d8576b\"], [0.6666666666666666, \"#ed7953\"], [0.7777777777777778, \"#fb9f3a\"], [0.8888888888888888, \"#fdca26\"], [1.0, \"#f0f921\"]], \"type\": \"contour\"}], \"contourcarpet\": [{\"colorbar\": {\"outlinewidth\": 0, \"ticks\": \"\"}, \"type\": \"contourcarpet\"}], \"heatmap\": [{\"colorbar\": {\"outlinewidth\": 0, \"ticks\": \"\"}, \"colorscale\": [[0.0, \"#0d0887\"], [0.1111111111111111, \"#46039f\"], [0.2222222222222222, \"#7201a8\"], [0.3333333333333333, \"#9c179e\"], [0.4444444444444444, \"#bd3786\"], [0.5555555555555556, \"#d8576b\"], [0.6666666666666666, \"#ed7953\"], [0.7777777777777778, \"#fb9f3a\"], [0.8888888888888888, \"#fdca26\"], [1.0, \"#f0f921\"]], \"type\": \"heatmap\"}], \"heatmapgl\": [{\"colorbar\": {\"outlinewidth\": 0, \"ticks\": \"\"}, \"colorscale\": [[0.0, \"#0d0887\"], [0.1111111111111111, \"#46039f\"], [0.2222222222222222, \"#7201a8\"], [0.3333333333333333, \"#9c179e\"], [0.4444444444444444, \"#bd3786\"], [0.5555555555555556, \"#d8576b\"], [0.6666666666666666, \"#ed7953\"], [0.7777777777777778, \"#fb9f3a\"], [0.8888888888888888, \"#fdca26\"], [1.0, \"#f0f921\"]], \"type\": \"heatmapgl\"}], \"histogram\": [{\"marker\": {\"colorbar\": {\"outlinewidth\": 0, \"ticks\": \"\"}}, \"type\": \"histogram\"}], \"histogram2d\": [{\"colorbar\": {\"outlinewidth\": 0, \"ticks\": \"\"}, \"colorscale\": [[0.0, \"#0d0887\"], [0.1111111111111111, \"#46039f\"], [0.2222222222222222, \"#7201a8\"], [0.3333333333333333, \"#9c179e\"], [0.4444444444444444, \"#bd3786\"], [0.5555555555555556, \"#d8576b\"], [0.6666666666666666, \"#ed7953\"], [0.7777777777777778, \"#fb9f3a\"], [0.8888888888888888, \"#fdca26\"], [1.0, \"#f0f921\"]], \"type\": \"histogram2d\"}], \"histogram2dcontour\": [{\"colorbar\": {\"outlinewidth\": 0, \"ticks\": \"\"}, \"colorscale\": [[0.0, \"#0d0887\"], [0.1111111111111111, \"#46039f\"], [0.2222222222222222, \"#7201a8\"], [0.3333333333333333, \"#9c179e\"], [0.4444444444444444, \"#bd3786\"], [0.5555555555555556, \"#d8576b\"], [0.6666666666666666, \"#ed7953\"], [0.7777777777777778, \"#fb9f3a\"], [0.8888888888888888, \"#fdca26\"], [1.0, \"#f0f921\"]], \"type\": \"histogram2dcontour\"}], \"mesh3d\": [{\"colorbar\": {\"outlinewidth\": 0, \"ticks\": \"\"}, \"type\": \"mesh3d\"}], \"parcoords\": [{\"line\": {\"colorbar\": {\"outlinewidth\": 0, \"ticks\": \"\"}}, \"type\": \"parcoords\"}], \"pie\": [{\"automargin\": true, \"type\": \"pie\"}], \"scatter\": [{\"marker\": {\"colorbar\": {\"outlinewidth\": 0, \"ticks\": \"\"}}, \"type\": \"scatter\"}], \"scatter3d\": [{\"line\": {\"colorbar\": {\"outlinewidth\": 0, \"ticks\": \"\"}}, \"marker\": {\"colorbar\": {\"outlinewidth\": 0, \"ticks\": \"\"}}, \"type\": \"scatter3d\"}], \"scattercarpet\": [{\"marker\": {\"colorbar\": {\"outlinewidth\": 0, \"ticks\": \"\"}}, \"type\": \"scattercarpet\"}], \"scattergeo\": [{\"marker\": {\"colorbar\": {\"outlinewidth\": 0, \"ticks\": \"\"}}, \"type\": \"scattergeo\"}], \"scattergl\": [{\"marker\": {\"colorbar\": {\"outlinewidth\": 0, \"ticks\": \"\"}}, \"type\": \"scattergl\"}], \"scattermapbox\": [{\"marker\": {\"colorbar\": {\"outlinewidth\": 0, \"ticks\": \"\"}}, \"type\": \"scattermapbox\"}], \"scatterpolar\": [{\"marker\": {\"colorbar\": {\"outlinewidth\": 0, \"ticks\": \"\"}}, \"type\": \"scatterpolar\"}], \"scatterpolargl\": [{\"marker\": {\"colorbar\": {\"outlinewidth\": 0, \"ticks\": \"\"}}, \"type\": \"scatterpolargl\"}], \"scatterternary\": [{\"marker\": {\"colorbar\": {\"outlinewidth\": 0, \"ticks\": \"\"}}, \"type\": \"scatterternary\"}], \"surface\": [{\"colorbar\": {\"outlinewidth\": 0, \"ticks\": \"\"}, \"colorscale\": [[0.0, \"#0d0887\"], [0.1111111111111111, \"#46039f\"], [0.2222222222222222, \"#7201a8\"], [0.3333333333333333, \"#9c179e\"], [0.4444444444444444, \"#bd3786\"], [0.5555555555555556, \"#d8576b\"], [0.6666666666666666, \"#ed7953\"], [0.7777777777777778, \"#fb9f3a\"], [0.8888888888888888, \"#fdca26\"], [1.0, \"#f0f921\"]], \"type\": \"surface\"}], \"table\": [{\"cells\": {\"fill\": {\"color\": \"#EBF0F8\"}, \"line\": {\"color\": \"white\"}}, \"header\": {\"fill\": {\"color\": \"#C8D4E3\"}, \"line\": {\"color\": \"white\"}}, \"type\": \"table\"}]}, \"layout\": {\"annotationdefaults\": {\"arrowcolor\": \"#2a3f5f\", \"arrowhead\": 0, \"arrowwidth\": 1}, \"coloraxis\": {\"colorbar\": {\"outlinewidth\": 0, \"ticks\": \"\"}}, \"colorscale\": {\"diverging\": [[0, \"#8e0152\"], [0.1, \"#c51b7d\"], [0.2, \"#de77ae\"], [0.3, \"#f1b6da\"], [0.4, \"#fde0ef\"], [0.5, \"#f7f7f7\"], [0.6, \"#e6f5d0\"], [0.7, \"#b8e186\"], [0.8, \"#7fbc41\"], [0.9, \"#4d9221\"], [1, \"#276419\"]], \"sequential\": [[0.0, \"#0d0887\"], [0.1111111111111111, \"#46039f\"], [0.2222222222222222, \"#7201a8\"], [0.3333333333333333, \"#9c179e\"], [0.4444444444444444, \"#bd3786\"], [0.5555555555555556, \"#d8576b\"], [0.6666666666666666, \"#ed7953\"], [0.7777777777777778, \"#fb9f3a\"], [0.8888888888888888, \"#fdca26\"], [1.0, \"#f0f921\"]], \"sequentialminus\": [[0.0, \"#0d0887\"], [0.1111111111111111, \"#46039f\"], [0.2222222222222222, \"#7201a8\"], [0.3333333333333333, \"#9c179e\"], [0.4444444444444444, \"#bd3786\"], [0.5555555555555556, \"#d8576b\"], [0.6666666666666666, \"#ed7953\"], [0.7777777777777778, \"#fb9f3a\"], [0.8888888888888888, \"#fdca26\"], [1.0, \"#f0f921\"]]}, \"colorway\": [\"#636efa\", \"#EF553B\", \"#00cc96\", \"#ab63fa\", \"#FFA15A\", \"#19d3f3\", \"#FF6692\", \"#B6E880\", \"#FF97FF\", \"#FECB52\"], \"font\": {\"color\": \"#2a3f5f\"}, \"geo\": {\"bgcolor\": \"white\", \"lakecolor\": \"white\", \"landcolor\": \"#E5ECF6\", \"showlakes\": true, \"showland\": true, \"subunitcolor\": \"white\"}, \"hoverlabel\": {\"align\": \"left\"}, \"hovermode\": \"closest\", \"mapbox\": {\"style\": \"light\"}, \"paper_bgcolor\": \"white\", \"plot_bgcolor\": \"#E5ECF6\", \"polar\": {\"angularaxis\": {\"gridcolor\": \"white\", \"linecolor\": \"white\", \"ticks\": \"\"}, \"bgcolor\": \"#E5ECF6\", \"radialaxis\": {\"gridcolor\": \"white\", \"linecolor\": \"white\", \"ticks\": \"\"}}, \"scene\": {\"xaxis\": {\"backgroundcolor\": \"#E5ECF6\", \"gridcolor\": \"white\", \"gridwidth\": 2, \"linecolor\": \"white\", \"showbackground\": true, \"ticks\": \"\", \"zerolinecolor\": \"white\"}, \"yaxis\": {\"backgroundcolor\": \"#E5ECF6\", \"gridcolor\": \"white\", \"gridwidth\": 2, \"linecolor\": \"white\", \"showbackground\": true, \"ticks\": \"\", \"zerolinecolor\": \"white\"}, \"zaxis\": {\"backgroundcolor\": \"#E5ECF6\", \"gridcolor\": \"white\", \"gridwidth\": 2, \"linecolor\": \"white\", \"showbackground\": true, \"ticks\": \"\", \"zerolinecolor\": \"white\"}}, \"shapedefaults\": {\"line\": {\"color\": \"#2a3f5f\"}}, \"ternary\": {\"aaxis\": {\"gridcolor\": \"white\", \"linecolor\": \"white\", \"ticks\": \"\"}, \"baxis\": {\"gridcolor\": \"white\", \"linecolor\": \"white\", \"ticks\": \"\"}, \"bgcolor\": \"#E5ECF6\", \"caxis\": {\"gridcolor\": \"white\", \"linecolor\": \"white\", \"ticks\": \"\"}}, \"title\": {\"x\": 0.05}, \"xaxis\": {\"automargin\": true, \"gridcolor\": \"white\", \"linecolor\": \"white\", \"ticks\": \"\", \"title\": {\"standoff\": 15}, \"zerolinecolor\": \"white\", \"zerolinewidth\": 2}, \"yaxis\": {\"automargin\": true, \"gridcolor\": \"white\", \"linecolor\": \"white\", \"ticks\": \"\", \"title\": {\"standoff\": 15}, \"zerolinecolor\": \"white\", \"zerolinewidth\": 2}}}, \"title\": {\"text\": \"Popular Destinations among insured\"}},\n",
              "                        {\"responsive\": true}\n",
              "                    ).then(function(){\n",
              "                            \n",
              "var gd = document.getElementById('782372d1-1cf0-4fae-bb65-24141edfc8b4');\n",
              "var x = new MutationObserver(function (mutations, observer) {{\n",
              "        var display = window.getComputedStyle(gd).display;\n",
              "        if (!display || display === 'none') {{\n",
              "            console.log([gd, 'removed!']);\n",
              "            Plotly.purge(gd);\n",
              "            observer.disconnect();\n",
              "        }}\n",
              "}});\n",
              "\n",
              "// Listen for the removal of the full notebook cells\n",
              "var notebookContainer = gd.closest('#notebook-container');\n",
              "if (notebookContainer) {{\n",
              "    x.observe(notebookContainer, {childList: true});\n",
              "}}\n",
              "\n",
              "// Listen for the clearing of the current output cell\n",
              "var outputEl = gd.closest('.output');\n",
              "if (outputEl) {{\n",
              "    x.observe(outputEl, {childList: true});\n",
              "}}\n",
              "\n",
              "                        })\n",
              "                };\n",
              "                \n",
              "            </script>\n",
              "        </div>\n",
              "</body>\n",
              "</html>"
            ]
          },
          "metadata": {}
        }
      ]
    },
    {
      "cell_type": "markdown",
      "metadata": {
        "id": "_LBqM5k9JCt3"
      },
      "source": [
        "A pie chart depicting 15 most popular destinations among travel insured.Here, I have grouped countries which have less than 1090 insurance policies together into others."
      ]
    },
    {
      "cell_type": "code",
      "metadata": {
        "execution": {
          "iopub.status.busy": "2021-09-14T10:12:52.073384Z",
          "iopub.execute_input": "2021-09-14T10:12:52.073699Z",
          "iopub.status.idle": "2021-09-14T10:12:52.302542Z",
          "shell.execute_reply.started": "2021-09-14T10:12:52.073654Z",
          "shell.execute_reply": "2021-09-14T10:12:52.301448Z"
        },
        "trusted": true,
        "colab": {
          "base_uri": "https://localhost:8080/",
          "height": 350
        },
        "id": "BY_h8otiJCt3",
        "outputId": "3885fc54-35d2-43e5-f0f8-f0191c058cd9"
      },
      "source": [
        "fig = plt.figure(figsize = (10, 5))\n",
        "plt.hist(df['Age'])\n",
        "plt.xlabel(\"Age\")\n",
        "plt.ylabel(\"Number of people\")\n",
        "plt.title(\"Distribution of Age\")\n",
        "plt.show()"
      ],
      "execution_count": 44,
      "outputs": [
        {
          "output_type": "display_data",
          "data": {
            "image/png": "[encoded data removed]",
            "text/plain": [
              "<Figure size 720x360 with 1 Axes>"
            ]
          },
          "metadata": {
            "needs_background": "light"
          }
        }
      ]
    },
    {
      "cell_type": "markdown",
      "metadata": {
        "id": "A1-sZAZZJCt4"
      },
      "source": [
        "The above figure shows a histogram depicting the distribution of age. From the graph, the majory of people opting for travel insurance are of the age 35 to 50."
      ]
    },
    {
      "cell_type": "code",
      "metadata": {
        "execution": {
          "iopub.status.busy": "2021-09-14T10:13:14.63455Z",
          "iopub.execute_input": "2021-09-14T10:13:14.634881Z",
          "iopub.status.idle": "2021-09-14T10:13:14.932192Z",
          "shell.execute_reply.started": "2021-09-14T10:13:14.634847Z",
          "shell.execute_reply": "2021-09-14T10:13:14.931527Z"
        },
        "trusted": true,
        "colab": {
          "base_uri": "https://localhost:8080/",
          "height": 350
        },
        "id": "vdOOmHDvJCt4",
        "outputId": "9fd0122b-3640-473c-80fd-7f436471b884"
      },
      "source": [
        "df2 = df.groupby(by=[\"Agency\"]).size().reset_index(name=\"counts\")\n",
        "fig = plt.figure(figsize = (10, 5))\n",
        "plt.bar(df2['Agency'], df2['counts'], color ='maroon', width = 0.4)\n",
        "plt.xlabel(\"Agency\")\n",
        "plt.ylabel(\"Number of people insured\")\n",
        "plt.title(\"People insured in different Insurance Agencies\")\n",
        "plt.show()"
      ],
      "execution_count": 45,
      "outputs": [
        {
          "output_type": "display_data",
          "data": {
            "image/png": "[encoded data removed]",
            "text/plain": [
              "<Figure size 720x360 with 1 Axes>"
            ]
          },
          "metadata": {
            "needs_background": "light"
          }
        }
      ]
    },
    {
      "cell_type": "markdown",
      "metadata": {
        "id": "mO4uvjroJCt4"
      },
      "source": [
        "The majority of people are insured under EPX agency."
      ]
    },
    {
      "cell_type": "code",
      "metadata": {
        "execution": {
          "iopub.status.busy": "2021-09-14T10:13:33.424195Z",
          "iopub.execute_input": "2021-09-14T10:13:33.424991Z",
          "iopub.status.idle": "2021-09-14T10:13:33.485604Z",
          "shell.execute_reply.started": "2021-09-14T10:13:33.424949Z",
          "shell.execute_reply": "2021-09-14T10:13:33.484594Z"
        },
        "trusted": true,
        "colab": {
          "base_uri": "https://localhost:8080/",
          "height": 542
        },
        "id": "kDdhnDFZJCt4",
        "outputId": "cebab51f-ddd2-4ecb-ff74-1a3723bcef6a"
      },
      "source": [
        "df3 = df.groupby(by=[\"Product_Name\"]).size().reset_index(name=\"counts\")\n",
        "fig = px.pie(df3, values='counts', names='Product_Name', title='People insured under different plans')\n",
        "fig.show()"
      ],
      "execution_count": 46,
      "outputs": [
        {
          "output_type": "display_data",
          "data": {
            "text/html": [
              "<html>\n",
              "<head><meta charset=\"utf-8\" /></head>\n",
              "<body>\n",
              "    <div>\n",
              "            <script src=\"https://cdnjs.cloudflare.com/ajax/libs/mathjax/2.7.5/MathJax.js?config=TeX-AMS-MML_SVG\"></script><script type=\"text/javascript\">if (window.MathJax) {MathJax.Hub.Config({SVG: {font: \"STIX-Web\"}});}</script>\n",
              "                <script type=\"text/javascript\">window.PlotlyConfig = {MathJaxConfig: 'local'};</script>\n",
              "        <script src=\"https://cdn.plot.ly/plotly-latest.min.js\"></script>    \n",
              "            <div id=\"900104a1-d1fe-4ed8-ba4c-0d0ce838c862\" class=\"plotly-graph-div\" style=\"height:525px; width:100%;\"></div>\n",
              "            <script type=\"text/javascript\">\n",
              "                \n",
              "                    window.PLOTLYENV=window.PLOTLYENV || {};\n",
              "                    \n",
              "                if (document.getElementById(\"900104a1-d1fe-4ed8-ba4c-0d0ce838c862\")) {\n",
              "                    Plotly.newPlot(\n",
              "                        '900104a1-d1fe-4ed8-ba4c-0d0ce838c862',\n",
              "                        [{\"domain\": {\"x\": [0.0, 1.0], \"y\": [0.0, 1.0]}, \"hoverlabel\": {\"namelength\": 0}, \"hovertemplate\": \"Product_Name=%{label}<br>counts=%{value}\", \"labels\": [\"1 way Comprehensive Plan\", \"2 way Comprehensive Plan\", \"24 Protect\", \"Annual Gold Plan\", \"Annual Silver Plan\", \"Annual Travel Protect Gold\", \"Annual Travel Protect Platinum\", \"Annual Travel Protect Silver\", \"Basic Plan\", \"Bronze Plan\", \"Cancellation Plan\", \"Child Comprehensive Plan\", \"Comprehensive Plan\", \"Gold Plan\", \"Individual Comprehensive Plan\", \"Premier Plan\", \"Rental Vehicle Excess Insurance\", \"Silver Plan\", \"Single Trip Travel Protect Gold\", \"Single Trip Travel Protect Platinum\", \"Single Trip Travel Protect Silver\", \"Spouse or Parents Comprehensive Plan\", \"Ticket Protector\", \"Travel Cruise Protect\", \"Travel Cruise Protect Family\", \"Value Plan\"], \"legendgroup\": \"\", \"name\": \"\", \"showlegend\": true, \"type\": \"pie\", \"values\": [3331, 13158, 247, 194, 1423, 100, 53, 86, 5469, 4049, 18630, 9, 364, 352, 74, 194, 8580, 2249, 204, 73, 173, 15, 1056, 527, 1, 2715]}],\n",
              "                        {\"legend\": {\"tracegroupgap\": 0}, \"template\": {\"data\": {\"bar\": [{\"error_x\": {\"color\": \"#2a3f5f\"}, \"error_y\": {\"color\": \"#2a3f5f\"}, \"marker\": {\"line\": {\"color\": \"#E5ECF6\", \"width\": 0.5}}, \"type\": \"bar\"}], \"barpolar\": [{\"marker\": {\"line\": {\"color\": \"#E5ECF6\", \"width\": 0.5}}, \"type\": \"barpolar\"}], \"carpet\": [{\"aaxis\": {\"endlinecolor\": \"#2a3f5f\", \"gridcolor\": \"white\", \"linecolor\": \"white\", \"minorgridcolor\": \"white\", \"startlinecolor\": \"#2a3f5f\"}, \"baxis\": {\"endlinecolor\": \"#2a3f5f\", \"gridcolor\": \"white\", \"linecolor\": \"white\", \"minorgridcolor\": \"white\", \"startlinecolor\": \"#2a3f5f\"}, \"type\": \"carpet\"}], \"choropleth\": [{\"colorbar\": {\"outlinewidth\": 0, \"ticks\": \"\"}, \"type\": \"choropleth\"}], \"contour\": [{\"colorbar\": {\"outlinewidth\": 0, \"ticks\": \"\"}, \"colorscale\": [[0.0, \"#0d0887\"], [0.1111111111111111, \"#46039f\"], [0.2222222222222222, \"#7201a8\"], [0.3333333333333333, \"#9c179e\"], [0.4444444444444444, \"#bd3786\"], [0.5555555555555556, \"#d8576b\"], [0.6666666666666666, \"#ed7953\"], [0.7777777777777778, \"#fb9f3a\"], [0.8888888888888888, \"#fdca26\"], [1.0, \"#f0f921\"]], \"type\": \"contour\"}], \"contourcarpet\": [{\"colorbar\": {\"outlinewidth\": 0, \"ticks\": \"\"}, \"type\": \"contourcarpet\"}], \"heatmap\": [{\"colorbar\": {\"outlinewidth\": 0, \"ticks\": \"\"}, \"colorscale\": [[0.0, \"#0d0887\"], [0.1111111111111111, \"#46039f\"], [0.2222222222222222, \"#7201a8\"], [0.3333333333333333, \"#9c179e\"], [0.4444444444444444, \"#bd3786\"], [0.5555555555555556, \"#d8576b\"], [0.6666666666666666, \"#ed7953\"], [0.7777777777777778, \"#fb9f3a\"], [0.8888888888888888, \"#fdca26\"], [1.0, \"#f0f921\"]], \"type\": \"heatmap\"}], \"heatmapgl\": [{\"colorbar\": {\"outlinewidth\": 0, \"ticks\": \"\"}, \"colorscale\": [[0.0, \"#0d0887\"], [0.1111111111111111, \"#46039f\"], [0.2222222222222222, \"#7201a8\"], [0.3333333333333333, \"#9c179e\"], [0.4444444444444444, \"#bd3786\"], [0.5555555555555556, \"#d8576b\"], [0.6666666666666666, \"#ed7953\"], [0.7777777777777778, \"#fb9f3a\"], [0.8888888888888888, \"#fdca26\"], [1.0, \"#f0f921\"]], \"type\": \"heatmapgl\"}], \"histogram\": [{\"marker\": {\"colorbar\": {\"outlinewidth\": 0, \"ticks\": \"\"}}, \"type\": \"histogram\"}], \"histogram2d\": [{\"colorbar\": {\"outlinewidth\": 0, \"ticks\": \"\"}, \"colorscale\": [[0.0, \"#0d0887\"], [0.1111111111111111, \"#46039f\"], [0.2222222222222222, \"#7201a8\"], [0.3333333333333333, \"#9c179e\"], [0.4444444444444444, \"#bd3786\"], [0.5555555555555556, \"#d8576b\"], [0.6666666666666666, \"#ed7953\"], [0.7777777777777778, \"#fb9f3a\"], [0.8888888888888888, \"#fdca26\"], [1.0, \"#f0f921\"]], \"type\": \"histogram2d\"}], \"histogram2dcontour\": [{\"colorbar\": {\"outlinewidth\": 0, \"ticks\": \"\"}, \"colorscale\": [[0.0, \"#0d0887\"], [0.1111111111111111, \"#46039f\"], [0.2222222222222222, \"#7201a8\"], [0.3333333333333333, \"#9c179e\"], [0.4444444444444444, \"#bd3786\"], [0.5555555555555556, \"#d8576b\"], [0.6666666666666666, \"#ed7953\"], [0.7777777777777778, \"#fb9f3a\"], [0.8888888888888888, \"#fdca26\"], [1.0, \"#f0f921\"]], \"type\": \"histogram2dcontour\"}], \"mesh3d\": [{\"colorbar\": {\"outlinewidth\": 0, \"ticks\": \"\"}, \"type\": \"mesh3d\"}], \"parcoords\": [{\"line\": {\"colorbar\": {\"outlinewidth\": 0, \"ticks\": \"\"}}, \"type\": \"parcoords\"}], \"pie\": [{\"automargin\": true, \"type\": \"pie\"}], \"scatter\": [{\"marker\": {\"colorbar\": {\"outlinewidth\": 0, \"ticks\": \"\"}}, \"type\": \"scatter\"}], \"scatter3d\": [{\"line\": {\"colorbar\": {\"outlinewidth\": 0, \"ticks\": \"\"}}, \"marker\": {\"colorbar\": {\"outlinewidth\": 0, \"ticks\": \"\"}}, \"type\": \"scatter3d\"}], \"scattercarpet\": [{\"marker\": {\"colorbar\": {\"outlinewidth\": 0, \"ticks\": \"\"}}, \"type\": \"scattercarpet\"}], \"scattergeo\": [{\"marker\": {\"colorbar\": {\"outlinewidth\": 0, \"ticks\": \"\"}}, \"type\": \"scattergeo\"}], \"scattergl\": [{\"marker\": {\"colorbar\": {\"outlinewidth\": 0, \"ticks\": \"\"}}, \"type\": \"scattergl\"}], \"scattermapbox\": [{\"marker\": {\"colorbar\": {\"outlinewidth\": 0, \"ticks\": \"\"}}, \"type\": \"scattermapbox\"}], \"scatterpolar\": [{\"marker\": {\"colorbar\": {\"outlinewidth\": 0, \"ticks\": \"\"}}, \"type\": \"scatterpolar\"}], \"scatterpolargl\": [{\"marker\": {\"colorbar\": {\"outlinewidth\": 0, \"ticks\": \"\"}}, \"type\": \"scatterpolargl\"}], \"scatterternary\": [{\"marker\": {\"colorbar\": {\"outlinewidth\": 0, \"ticks\": \"\"}}, \"type\": \"scatterternary\"}], \"surface\": [{\"colorbar\": {\"outlinewidth\": 0, \"ticks\": \"\"}, \"colorscale\": [[0.0, \"#0d0887\"], [0.1111111111111111, \"#46039f\"], [0.2222222222222222, \"#7201a8\"], [0.3333333333333333, \"#9c179e\"], [0.4444444444444444, \"#bd3786\"], [0.5555555555555556, \"#d8576b\"], [0.6666666666666666, \"#ed7953\"], [0.7777777777777778, \"#fb9f3a\"], [0.8888888888888888, \"#fdca26\"], [1.0, \"#f0f921\"]], \"type\": \"surface\"}], \"table\": [{\"cells\": {\"fill\": {\"color\": \"#EBF0F8\"}, \"line\": {\"color\": \"white\"}}, \"header\": {\"fill\": {\"color\": \"#C8D4E3\"}, \"line\": {\"color\": \"white\"}}, \"type\": \"table\"}]}, \"layout\": {\"annotationdefaults\": {\"arrowcolor\": \"#2a3f5f\", \"arrowhead\": 0, \"arrowwidth\": 1}, \"coloraxis\": {\"colorbar\": {\"outlinewidth\": 0, \"ticks\": \"\"}}, \"colorscale\": {\"diverging\": [[0, \"#8e0152\"], [0.1, \"#c51b7d\"], [0.2, \"#de77ae\"], [0.3, \"#f1b6da\"], [0.4, \"#fde0ef\"], [0.5, \"#f7f7f7\"], [0.6, \"#e6f5d0\"], [0.7, \"#b8e186\"], [0.8, \"#7fbc41\"], [0.9, \"#4d9221\"], [1, \"#276419\"]], \"sequential\": [[0.0, \"#0d0887\"], [0.1111111111111111, \"#46039f\"], [0.2222222222222222, \"#7201a8\"], [0.3333333333333333, \"#9c179e\"], [0.4444444444444444, \"#bd3786\"], [0.5555555555555556, \"#d8576b\"], [0.6666666666666666, \"#ed7953\"], [0.7777777777777778, \"#fb9f3a\"], [0.8888888888888888, \"#fdca26\"], [1.0, \"#f0f921\"]], \"sequentialminus\": [[0.0, \"#0d0887\"], [0.1111111111111111, \"#46039f\"], [0.2222222222222222, \"#7201a8\"], [0.3333333333333333, \"#9c179e\"], [0.4444444444444444, \"#bd3786\"], [0.5555555555555556, \"#d8576b\"], [0.6666666666666666, \"#ed7953\"], [0.7777777777777778, \"#fb9f3a\"], [0.8888888888888888, \"#fdca26\"], [1.0, \"#f0f921\"]]}, \"colorway\": [\"#636efa\", \"#EF553B\", \"#00cc96\", \"#ab63fa\", \"#FFA15A\", \"#19d3f3\", \"#FF6692\", \"#B6E880\", \"#FF97FF\", \"#FECB52\"], \"font\": {\"color\": \"#2a3f5f\"}, \"geo\": {\"bgcolor\": \"white\", \"lakecolor\": \"white\", \"landcolor\": \"#E5ECF6\", \"showlakes\": true, \"showland\": true, \"subunitcolor\": \"white\"}, \"hoverlabel\": {\"align\": \"left\"}, \"hovermode\": \"closest\", \"mapbox\": {\"style\": \"light\"}, \"paper_bgcolor\": \"white\", \"plot_bgcolor\": \"#E5ECF6\", \"polar\": {\"angularaxis\": {\"gridcolor\": \"white\", \"linecolor\": \"white\", \"ticks\": \"\"}, \"bgcolor\": \"#E5ECF6\", \"radialaxis\": {\"gridcolor\": \"white\", \"linecolor\": \"white\", \"ticks\": \"\"}}, \"scene\": {\"xaxis\": {\"backgroundcolor\": \"#E5ECF6\", \"gridcolor\": \"white\", \"gridwidth\": 2, \"linecolor\": \"white\", \"showbackground\": true, \"ticks\": \"\", \"zerolinecolor\": \"white\"}, \"yaxis\": {\"backgroundcolor\": \"#E5ECF6\", \"gridcolor\": \"white\", \"gridwidth\": 2, \"linecolor\": \"white\", \"showbackground\": true, \"ticks\": \"\", \"zerolinecolor\": \"white\"}, \"zaxis\": {\"backgroundcolor\": \"#E5ECF6\", \"gridcolor\": \"white\", \"gridwidth\": 2, \"linecolor\": \"white\", \"showbackground\": true, \"ticks\": \"\", \"zerolinecolor\": \"white\"}}, \"shapedefaults\": {\"line\": {\"color\": \"#2a3f5f\"}}, \"ternary\": {\"aaxis\": {\"gridcolor\": \"white\", \"linecolor\": \"white\", \"ticks\": \"\"}, \"baxis\": {\"gridcolor\": \"white\", \"linecolor\": \"white\", \"ticks\": \"\"}, \"bgcolor\": \"#E5ECF6\", \"caxis\": {\"gridcolor\": \"white\", \"linecolor\": \"white\", \"ticks\": \"\"}}, \"title\": {\"x\": 0.05}, \"xaxis\": {\"automargin\": true, \"gridcolor\": \"white\", \"linecolor\": \"white\", \"ticks\": \"\", \"title\": {\"standoff\": 15}, \"zerolinecolor\": \"white\", \"zerolinewidth\": 2}, \"yaxis\": {\"automargin\": true, \"gridcolor\": \"white\", \"linecolor\": \"white\", \"ticks\": \"\", \"title\": {\"standoff\": 15}, \"zerolinecolor\": \"white\", \"zerolinewidth\": 2}}}, \"title\": {\"text\": \"People insured under different plans\"}},\n",
              "                        {\"responsive\": true}\n",
              "                    ).then(function(){\n",
              "                            \n",
              "var gd = document.getElementById('900104a1-d1fe-4ed8-ba4c-0d0ce838c862');\n",
              "var x = new MutationObserver(function (mutations, observer) {{\n",
              "        var display = window.getComputedStyle(gd).display;\n",
              "        if (!display || display === 'none') {{\n",
              "            console.log([gd, 'removed!']);\n",
              "            Plotly.purge(gd);\n",
              "            observer.disconnect();\n",
              "        }}\n",
              "}});\n",
              "\n",
              "// Listen for the removal of the full notebook cells\n",
              "var notebookContainer = gd.closest('#notebook-container');\n",
              "if (notebookContainer) {{\n",
              "    x.observe(notebookContainer, {childList: true});\n",
              "}}\n",
              "\n",
              "// Listen for the clearing of the current output cell\n",
              "var outputEl = gd.closest('.output');\n",
              "if (outputEl) {{\n",
              "    x.observe(outputEl, {childList: true});\n",
              "}}\n",
              "\n",
              "                        })\n",
              "                };\n",
              "                \n",
              "            </script>\n",
              "        </div>\n",
              "</body>\n",
              "</html>"
            ]
          },
          "metadata": {}
        }
      ]
    },
    {
      "cell_type": "markdown",
      "metadata": {
        "id": "-fM1XvS3JCt4"
      },
      "source": [
        "The pie chart depicts that majority of travel insured people have opted for Cancellation Plan."
      ]
    },
    {
      "cell_type": "code",
      "metadata": {
        "execution": {
          "iopub.status.busy": "2021-09-14T10:14:06.634584Z",
          "iopub.execute_input": "2021-09-14T10:14:06.634905Z",
          "iopub.status.idle": "2021-09-14T10:14:06.92054Z",
          "shell.execute_reply.started": "2021-09-14T10:14:06.634874Z",
          "shell.execute_reply": "2021-09-14T10:14:06.919495Z"
        },
        "trusted": true,
        "colab": {
          "base_uri": "https://localhost:8080/",
          "height": 350
        },
        "id": "gsgNwJRdJCt4",
        "outputId": "58adf608-4a3b-46b6-b645-400a186fbd4f"
      },
      "source": [
        "df4=df.groupby(by=['Agency']).mean().reset_index()\n",
        "df4.head()\n",
        "fig = plt.figure(figsize = (10, 5))\n",
        "plt.bar(df4['Agency'], df4['Commision'], color ='green', width = 0.4)\n",
        "plt.xlabel(\"Agency\")\n",
        "plt.ylabel(\"Avg. Commision\")\n",
        "plt.title(\"Average commision of agents in various agency\")\n",
        "plt.show()"
      ],
      "execution_count": 47,
      "outputs": [
        {
          "output_type": "display_data",
          "data": {
            "image/png": "[encoded data removed]",
            "text/plain": [
              "<Figure size 720x360 with 1 Axes>"
            ]
          },
          "metadata": {
            "needs_background": "light"
          }
        }
      ]
    },
    {
      "cell_type": "markdown",
      "metadata": {
        "id": "ylR-NeIEJCt5"
      },
      "source": [
        "LWC is the agency that gives maximum commision to its agents while EPX gives NIL."
      ]
    },
    {
      "cell_type": "code",
      "metadata": {
        "execution": {
          "iopub.status.busy": "2021-09-14T10:14:32.429196Z",
          "iopub.execute_input": "2021-09-14T10:14:32.429488Z",
          "iopub.status.idle": "2021-09-14T10:14:32.688874Z",
          "shell.execute_reply.started": "2021-09-14T10:14:32.429452Z",
          "shell.execute_reply": "2021-09-14T10:14:32.688032Z"
        },
        "trusted": true,
        "colab": {
          "base_uri": "https://localhost:8080/",
          "height": 350
        },
        "id": "jPIDl042JCt5",
        "outputId": "5ad9c66a-cc18-4775-a31c-ce62f8ab95ce"
      },
      "source": [
        "fig = plt.figure(figsize = (10, 5))\n",
        "plt.bar(df4['Agency'], df4['Net_Sales'], color ='pink', width = 0.4)\n",
        "plt.xlabel(\"Agency\")\n",
        "plt.ylabel(\"Avg. Net Sales\")\n",
        "plt.title(\"Average Net Sales per agency\")\n",
        "plt.show()"
      ],
      "execution_count": 48,
      "outputs": [
        {
          "output_type": "display_data",
          "data": {
            "image/png": "[encoded data removed]",
            "text/plain": [
              "<Figure size 720x360 with 1 Axes>"
            ]
          },
          "metadata": {
            "needs_background": "light"
          }
        }
      ]
    },
    {
      "cell_type": "markdown",
      "metadata": {
        "id": "9UYoetrVJCt5"
      },
      "source": [
        "The net sales are highest for LWC while lowest for SSI."
      ]
    },
    {
      "cell_type": "code",
      "metadata": {
        "execution": {
          "iopub.status.busy": "2021-09-14T10:14:52.273098Z",
          "iopub.execute_input": "2021-09-14T10:14:52.27358Z",
          "iopub.status.idle": "2021-09-14T10:14:52.453931Z",
          "shell.execute_reply.started": "2021-09-14T10:14:52.273547Z",
          "shell.execute_reply": "2021-09-14T10:14:52.452953Z"
        },
        "trusted": true,
        "colab": {
          "base_uri": "https://localhost:8080/",
          "height": 295
        },
        "id": "mQSGaFnoJCt5",
        "outputId": "83937494-a744-43fe-d86a-5a2db88071df"
      },
      "source": [
        "df5=df.groupby(by=['Distribution_Channel']).size().reset_index(name=\"counts\")\n",
        "plt.bar(df5['Distribution_Channel'], df5['counts'], color ='purple',width = 0.4)\n",
        "plt.xlabel(\"Distribution Channel\")\n",
        "plt.ylabel(\"Number of people insured\")\n",
        "plt.title(\"People insured under different Distribution Channel\")\n",
        "plt.show()"
      ],
      "execution_count": 49,
      "outputs": [
        {
          "output_type": "display_data",
          "data": {
            "image/png": "[encoded data removed]",
            "text/plain": [
              "<Figure size 432x288 with 1 Axes>"
            ]
          },
          "metadata": {
            "needs_background": "light"
          }
        }
      ]
    },
    {
      "cell_type": "markdown",
      "metadata": {
        "id": "Ca3FLLEwJCt5"
      },
      "source": [
        "Majority of people have opted for online mode of insurance distribution channel."
      ]
    },
    {
      "cell_type": "code",
      "metadata": {
        "execution": {
          "iopub.status.busy": "2021-09-14T10:15:17.534865Z",
          "iopub.execute_input": "2021-09-14T10:15:17.535156Z",
          "iopub.status.idle": "2021-09-14T10:15:17.699894Z",
          "shell.execute_reply.started": "2021-09-14T10:15:17.535129Z",
          "shell.execute_reply": "2021-09-14T10:15:17.698894Z"
        },
        "trusted": true,
        "colab": {
          "base_uri": "https://localhost:8080/",
          "height": 264
        },
        "id": "RnmPSiGMJCt6",
        "outputId": "6c653604-4c81-4b1b-ab53-587012648b3c"
      },
      "source": [
        "df6=df.loc[df['Claim']=='Yes']\n",
        "df7= df6.groupby(by=[\"Destination\"]).size().reset_index(name=\"counts\")\n",
        "df8=df7.nlargest(5,['counts'])\n",
        "my_circle = plt.Circle((0, 0), 0.6, color='white')\n",
        "plt.pie(df8['counts'], labels=df8['Destination'], autopct='%1.1f%%', colors=Pastel1_7.hex_colors)\n",
        "plt.title('Top 5 countries where insured are raising claim requests')\n",
        "p = plt.gcf()\n",
        "p.gca().add_artist(my_circle)\n",
        "plt.show()"
      ],
      "execution_count": 50,
      "outputs": [
        {
          "output_type": "display_data",
          "data": {
            "image/png": "[encoded data removed]",
            "text/plain": [
              "<Figure size 432x288 with 1 Axes>"
            ]
          },
          "metadata": {}
        }
      ]
    },
    {
      "cell_type": "markdown",
      "metadata": {
        "id": "rlnSY2DNJCt6"
      },
      "source": [
        "Singapore tops the list with maximum number of claim request filed. "
      ]
    },
    {
      "cell_type": "code",
      "metadata": {
        "execution": {
          "iopub.status.busy": "2021-09-14T10:15:37.174551Z",
          "iopub.execute_input": "2021-09-14T10:15:37.174873Z",
          "iopub.status.idle": "2021-09-14T10:15:37.310828Z",
          "shell.execute_reply.started": "2021-09-14T10:15:37.174843Z",
          "shell.execute_reply": "2021-09-14T10:15:37.31001Z"
        },
        "trusted": true,
        "colab": {
          "base_uri": "https://localhost:8080/",
          "height": 264
        },
        "id": "vBfUlaiiJCt6",
        "outputId": "ac865bf5-b869-455d-a258-bbae2dd9296a"
      },
      "source": [
        "df9= df6.groupby(by=[\"Product_Name\"]).size().reset_index(name=\"counts\")\n",
        "df10=df9.nlargest(5,['counts'])\n",
        "my_circle = plt.Circle((0, 0), 0.6, color='white')\n",
        "plt.pie(df10['counts'], labels=df10['Product_Name'], autopct='%1.1f%%',colors=Pastel1_7.hex_colors)\n",
        "plt.title('Top 5 plans where insured are raising claim requests')\n",
        "p = plt.gcf()\n",
        "p.gca().add_artist(my_circle)\n",
        "plt.show()"
      ],
      "execution_count": 51,
      "outputs": [
        {
          "output_type": "display_data",
          "data": {
            "image/png": "[encoded data removed]",
            "text/plain": [
              "<Figure size 432x288 with 1 Axes>"
            ]
          },
          "metadata": {}
        }
      ]
    },
    {
      "cell_type": "markdown",
      "metadata": {
        "id": "f86wr0hXJCt6"
      },
      "source": [
        "The majority claim requests are coming from Bronze Plan and Annual Silver Plan."
      ]
    },
    {
      "cell_type": "code",
      "metadata": {
        "execution": {
          "iopub.status.busy": "2021-09-14T10:15:57.124131Z",
          "iopub.execute_input": "2021-09-14T10:15:57.124402Z",
          "iopub.status.idle": "2021-09-14T10:15:57.249153Z",
          "shell.execute_reply.started": "2021-09-14T10:15:57.124376Z",
          "shell.execute_reply": "2021-09-14T10:15:57.248553Z"
        },
        "trusted": true,
        "colab": {
          "base_uri": "https://localhost:8080/",
          "height": 264
        },
        "id": "oHNasxCxJCt6",
        "outputId": "66bd35f9-e5fe-49e8-fe25-286c8c789137"
      },
      "source": [
        "df11= df6.groupby(by=[\"Agency\"]).size().reset_index(name=\"counts\")\n",
        "df12=df11.nlargest(5,['counts'])\n",
        "my_circle = plt.Circle((0, 0), 0.6, color='white')\n",
        "plt.pie(df12['counts'], labels=df12['Agency'], autopct='%1.1f%%', colors=Pastel1_7.hex_colors)\n",
        "plt.title('Top 5 Agencies where insured are raising claim requests')\n",
        "p = plt.gcf()\n",
        "p.gca().add_artist(my_circle)\n",
        "plt.show()"
      ],
      "execution_count": 52,
      "outputs": [
        {
          "output_type": "display_data",
          "data": {
            "image/png": "[encoded data removed]",
            "text/plain": [
              "<Figure size 432x288 with 1 Axes>"
            ]
          },
          "metadata": {}
        }
      ]
    },
    {
      "cell_type": "markdown",
      "metadata": {
        "id": "r3C69z6mJCt6"
      },
      "source": [
        "The maximum claim requests have come to the agency called C2B."
      ]
    },
    {
      "cell_type": "code",
      "metadata": {
        "execution": {
          "iopub.status.busy": "2021-09-14T10:16:15.633695Z",
          "iopub.execute_input": "2021-09-14T10:16:15.634329Z",
          "iopub.status.idle": "2021-09-14T10:16:15.809877Z",
          "shell.execute_reply.started": "2021-09-14T10:16:15.634292Z",
          "shell.execute_reply": "2021-09-14T10:16:15.809228Z"
        },
        "trusted": true,
        "colab": {
          "base_uri": "https://localhost:8080/",
          "height": 295
        },
        "id": "3maSHBNyJCt6",
        "outputId": "21fd9212-773f-4822-8b32-1fa2f65695e4"
      },
      "source": [
        "df13=df.groupby(by=['Agency_Type']).size().reset_index(name=\"counts\")\n",
        "plt.bar(df13['Agency_Type'], df13['counts'], color ='red',width = 0.4)\n",
        "plt.xlabel(\"Agency Type\")\n",
        "plt.ylabel(\"Number of people insured\")\n",
        "plt.title(\"People insured under different Agency Type\")\n",
        "plt.show()"
      ],
      "execution_count": 53,
      "outputs": [
        {
          "output_type": "display_data",
          "data": {
            "image/png": "[encoded data removed]",
            "text/plain": [
              "<Figure size 432x288 with 1 Axes>"
            ]
          },
          "metadata": {
            "needs_background": "light"
          }
        }
      ]
    },
    {
      "cell_type": "markdown",
      "metadata": {
        "id": "8qgkMeWOJCt6"
      },
      "source": [
        "Majority of people have got their insurance via Travel Agency."
      ]
    },
    {
      "cell_type": "code",
      "metadata": {
        "execution": {
          "iopub.status.busy": "2021-09-14T10:16:41.073627Z",
          "iopub.execute_input": "2021-09-14T10:16:41.075895Z",
          "iopub.status.idle": "2021-09-14T10:16:41.254454Z",
          "shell.execute_reply.started": "2021-09-14T10:16:41.075846Z",
          "shell.execute_reply": "2021-09-14T10:16:41.253773Z"
        },
        "trusted": true,
        "colab": {
          "base_uri": "https://localhost:8080/",
          "height": 295
        },
        "id": "6fj-QW8hJCt7",
        "outputId": "7d1ebac9-fb74-4688-e209-f1ccc18ab34a"
      },
      "source": [
        "df14 = df.groupby(by=[\"Claim\"]).size().reset_index(name=\"counts\")\n",
        "plt.bar(df14['Claim'], df14['counts'], color ='grey',width = 0.4)\n",
        "plt.xlabel(\"Claim\")\n",
        "plt.ylabel(\"Number of people insured\")\n",
        "plt.title(\"People Insured who requested for claim vs who did not\")\n",
        "plt.show()"
      ],
      "execution_count": 54,
      "outputs": [
        {
          "output_type": "display_data",
          "data": {
            "image/png": "[encoded data removed]",
            "text/plain": [
              "<Figure size 432x288 with 1 Axes>"
            ]
          },
          "metadata": {
            "needs_background": "light"
          }
        }
      ]
    },
    {
      "cell_type": "markdown",
      "metadata": {
        "id": "wqEYYWAiJCt7"
      },
      "source": [
        "Around 900 people have requested for claim out of total policy holders which is around 1.4%."
      ]
    },
    {
      "cell_type": "code",
      "metadata": {
        "execution": {
          "iopub.status.busy": "2021-09-14T10:17:06.21521Z",
          "iopub.execute_input": "2021-09-14T10:17:06.215535Z",
          "iopub.status.idle": "2021-09-14T10:17:06.388076Z",
          "shell.execute_reply.started": "2021-09-14T10:17:06.215491Z",
          "shell.execute_reply": "2021-09-14T10:17:06.38708Z"
        },
        "trusted": true,
        "colab": {
          "base_uri": "https://localhost:8080/",
          "height": 265
        },
        "id": "hyZj5sL2JCt7",
        "outputId": "0b6080a3-6f1e-46e4-b48b-db8eb5518e92"
      },
      "source": [
        "fig = plt.figure(figsize =(6,4 ))\n",
        "plt.boxplot(df['Duration'])\n",
        "plt.show()"
      ],
      "execution_count": 55,
      "outputs": [
        {
          "output_type": "display_data",
          "data": {
            "image/png": "[encoded data removed]",
            "text/plain": [
              "<Figure size 432x288 with 1 Axes>"
            ]
          },
          "metadata": {
            "needs_background": "light"
          }
        }
      ]
    },
    {
      "cell_type": "markdown",
      "metadata": {
        "execution": {
          "iopub.status.busy": "2021-09-14T10:17:16.654112Z",
          "iopub.execute_input": "2021-09-14T10:17:16.654416Z",
          "iopub.status.idle": "2021-09-14T10:17:16.660288Z",
          "shell.execute_reply.started": "2021-09-14T10:17:16.654388Z",
          "shell.execute_reply": "2021-09-14T10:17:16.659373Z"
        },
        "id": "av3LlbLhJCt7"
      },
      "source": [
        "The boxplot shows data distribution of the Duration feature. We can see that there are some outliers depicting negative values of duration i.e. Time which ideally is not possible."
      ]
    },
    {
      "cell_type": "code",
      "metadata": {
        "execution": {
          "iopub.status.busy": "2021-09-14T10:17:32.930803Z",
          "iopub.execute_input": "2021-09-14T10:17:32.931227Z",
          "iopub.status.idle": "2021-09-14T10:17:32.943963Z",
          "shell.execute_reply.started": "2021-09-14T10:17:32.931197Z",
          "shell.execute_reply": "2021-09-14T10:17:32.943075Z"
        },
        "trusted": true,
        "id": "MBUljEoZJCt7"
      },
      "source": [
        "index_duration = df[df['Duration'] < 0 ].index\n",
        "df.drop(index_duration, inplace = True)"
      ],
      "execution_count": 56,
      "outputs": []
    },
    {
      "cell_type": "markdown",
      "metadata": {
        "id": "k6LwgMWbJCt7"
      },
      "source": [
        "Dropped off negative values of Duration column."
      ]
    },
    {
      "cell_type": "code",
      "metadata": {
        "execution": {
          "iopub.status.busy": "2021-09-14T10:17:51.273057Z",
          "iopub.execute_input": "2021-09-14T10:17:51.273367Z",
          "iopub.status.idle": "2021-09-14T10:17:51.417176Z",
          "shell.execute_reply.started": "2021-09-14T10:17:51.273336Z",
          "shell.execute_reply": "2021-09-14T10:17:51.416233Z"
        },
        "trusted": true,
        "id": "QMt2WupFJCt7"
      },
      "source": [
        "from sklearn import preprocessing\n",
        "label_encoder1 = preprocessing.LabelEncoder()\n",
        "df['Agency']= label_encoder1.fit_transform(df['Agency'])\n",
        "  \n",
        "label_encoder2 = preprocessing.LabelEncoder()\n",
        "df['Agency_Type']= label_encoder2.fit_transform(df['Agency_Type'])\n",
        "\n",
        "label_encoder3 = preprocessing.LabelEncoder()\n",
        "df['Distribution_Channel']= label_encoder3.fit_transform(df['Distribution_Channel'])\n",
        "\n",
        "label_encoder4 = preprocessing.LabelEncoder()\n",
        "df['Product_Name']= label_encoder4.fit_transform(df['Product_Name'])\n",
        "\n",
        "label_encoder5 = preprocessing.LabelEncoder()\n",
        "df['Claim']= label_encoder5.fit_transform(df['Claim'])\n",
        "\n",
        "\n",
        "label_encoder6 = preprocessing.LabelEncoder()\n",
        "df['Destination']= label_encoder6.fit_transform(df['Destination'])\n"
      ],
      "execution_count": 57,
      "outputs": []
    },
    {
      "cell_type": "markdown",
      "metadata": {
        "id": "ZG7JxiGqJCt7"
      },
      "source": [
        "Label encoding is used to transform categorical features."
      ]
    },
    {
      "cell_type": "code",
      "metadata": {
        "execution": {
          "iopub.status.busy": "2021-09-14T10:18:19.114048Z",
          "iopub.execute_input": "2021-09-14T10:18:19.114353Z",
          "iopub.status.idle": "2021-09-14T10:18:19.136004Z",
          "shell.execute_reply.started": "2021-09-14T10:18:19.114324Z",
          "shell.execute_reply": "2021-09-14T10:18:19.135118Z"
        },
        "trusted": true,
        "colab": {
          "base_uri": "https://localhost:8080/",
          "height": 424
        },
        "id": "nc4G183BJCt8",
        "outputId": "5e9e4e0d-731a-4ada-f5c5-f783584e997f"
      },
      "source": [
        "df"
      ],
      "execution_count": 58,
      "outputs": [
        {
          "output_type": "execute_result",
          "data": {
            "text/html": [
              "<div>\n",
              "<style scoped>\n",
              "    .dataframe tbody tr th:only-of-type {\n",
              "        vertical-align: middle;\n",
              "    }\n",
              "\n",
              "    .dataframe tbody tr th {\n",
              "        vertical-align: top;\n",
              "    }\n",
              "\n",
              "    .dataframe thead th {\n",
              "        text-align: right;\n",
              "    }\n",
              "</style>\n",
              "<table border=\"1\" class=\"dataframe\">\n",
              "  <thead>\n",
              "    <tr style=\"text-align: right;\">\n",
              "      <th></th>\n",
              "      <th>Agency</th>\n",
              "      <th>Agency_Type</th>\n",
              "      <th>Distribution_Channel</th>\n",
              "      <th>Product_Name</th>\n",
              "      <th>Claim</th>\n",
              "      <th>Duration</th>\n",
              "      <th>Destination</th>\n",
              "      <th>Net_Sales</th>\n",
              "      <th>Commision</th>\n",
              "      <th>Age</th>\n",
              "    </tr>\n",
              "  </thead>\n",
              "  <tbody>\n",
              "    <tr>\n",
              "      <th>0</th>\n",
              "      <td>3</td>\n",
              "      <td>1</td>\n",
              "      <td>0</td>\n",
              "      <td>12</td>\n",
              "      <td>0</td>\n",
              "      <td>186</td>\n",
              "      <td>79</td>\n",
              "      <td>-29.0</td>\n",
              "      <td>9.57</td>\n",
              "      <td>81</td>\n",
              "    </tr>\n",
              "    <tr>\n",
              "      <th>1</th>\n",
              "      <td>3</td>\n",
              "      <td>1</td>\n",
              "      <td>0</td>\n",
              "      <td>12</td>\n",
              "      <td>0</td>\n",
              "      <td>186</td>\n",
              "      <td>79</td>\n",
              "      <td>-29.0</td>\n",
              "      <td>9.57</td>\n",
              "      <td>71</td>\n",
              "    </tr>\n",
              "    <tr>\n",
              "      <th>2</th>\n",
              "      <td>6</td>\n",
              "      <td>1</td>\n",
              "      <td>1</td>\n",
              "      <td>16</td>\n",
              "      <td>0</td>\n",
              "      <td>65</td>\n",
              "      <td>4</td>\n",
              "      <td>-49.5</td>\n",
              "      <td>29.70</td>\n",
              "      <td>32</td>\n",
              "    </tr>\n",
              "    <tr>\n",
              "      <th>3</th>\n",
              "      <td>6</td>\n",
              "      <td>1</td>\n",
              "      <td>1</td>\n",
              "      <td>16</td>\n",
              "      <td>0</td>\n",
              "      <td>60</td>\n",
              "      <td>4</td>\n",
              "      <td>-39.6</td>\n",
              "      <td>23.76</td>\n",
              "      <td>32</td>\n",
              "    </tr>\n",
              "    <tr>\n",
              "      <th>4</th>\n",
              "      <td>6</td>\n",
              "      <td>1</td>\n",
              "      <td>1</td>\n",
              "      <td>16</td>\n",
              "      <td>0</td>\n",
              "      <td>79</td>\n",
              "      <td>61</td>\n",
              "      <td>-19.8</td>\n",
              "      <td>11.88</td>\n",
              "      <td>41</td>\n",
              "    </tr>\n",
              "    <tr>\n",
              "      <th>...</th>\n",
              "      <td>...</td>\n",
              "      <td>...</td>\n",
              "      <td>...</td>\n",
              "      <td>...</td>\n",
              "      <td>...</td>\n",
              "      <td>...</td>\n",
              "      <td>...</td>\n",
              "      <td>...</td>\n",
              "      <td>...</td>\n",
              "      <td>...</td>\n",
              "    </tr>\n",
              "    <tr>\n",
              "      <th>63321</th>\n",
              "      <td>9</td>\n",
              "      <td>0</td>\n",
              "      <td>1</td>\n",
              "      <td>8</td>\n",
              "      <td>0</td>\n",
              "      <td>111</td>\n",
              "      <td>63</td>\n",
              "      <td>35.0</td>\n",
              "      <td>12.25</td>\n",
              "      <td>31</td>\n",
              "    </tr>\n",
              "    <tr>\n",
              "      <th>63322</th>\n",
              "      <td>9</td>\n",
              "      <td>0</td>\n",
              "      <td>1</td>\n",
              "      <td>8</td>\n",
              "      <td>0</td>\n",
              "      <td>58</td>\n",
              "      <td>26</td>\n",
              "      <td>40.0</td>\n",
              "      <td>14.00</td>\n",
              "      <td>40</td>\n",
              "    </tr>\n",
              "    <tr>\n",
              "      <th>63323</th>\n",
              "      <td>9</td>\n",
              "      <td>0</td>\n",
              "      <td>1</td>\n",
              "      <td>8</td>\n",
              "      <td>0</td>\n",
              "      <td>2</td>\n",
              "      <td>79</td>\n",
              "      <td>18.0</td>\n",
              "      <td>6.30</td>\n",
              "      <td>57</td>\n",
              "    </tr>\n",
              "    <tr>\n",
              "      <th>63324</th>\n",
              "      <td>9</td>\n",
              "      <td>0</td>\n",
              "      <td>1</td>\n",
              "      <td>8</td>\n",
              "      <td>0</td>\n",
              "      <td>3</td>\n",
              "      <td>145</td>\n",
              "      <td>18.0</td>\n",
              "      <td>6.30</td>\n",
              "      <td>63</td>\n",
              "    </tr>\n",
              "    <tr>\n",
              "      <th>63325</th>\n",
              "      <td>9</td>\n",
              "      <td>0</td>\n",
              "      <td>1</td>\n",
              "      <td>8</td>\n",
              "      <td>0</td>\n",
              "      <td>22</td>\n",
              "      <td>53</td>\n",
              "      <td>26.0</td>\n",
              "      <td>9.10</td>\n",
              "      <td>35</td>\n",
              "    </tr>\n",
              "  </tbody>\n",
              "</table>\n",
              "<p>63321 rows × 10 columns</p>\n",
              "</div>"
            ],
            "text/plain": [
              "       Agency  Agency_Type  Distribution_Channel  ...  Net_Sales  Commision  Age\n",
              "0           3            1                     0  ...      -29.0       9.57   81\n",
              "1           3            1                     0  ...      -29.0       9.57   71\n",
              "2           6            1                     1  ...      -49.5      29.70   32\n",
              "3           6            1                     1  ...      -39.6      23.76   32\n",
              "4           6            1                     1  ...      -19.8      11.88   41\n",
              "...       ...          ...                   ...  ...        ...        ...  ...\n",
              "63321       9            0                     1  ...       35.0      12.25   31\n",
              "63322       9            0                     1  ...       40.0      14.00   40\n",
              "63323       9            0                     1  ...       18.0       6.30   57\n",
              "63324       9            0                     1  ...       18.0       6.30   63\n",
              "63325       9            0                     1  ...       26.0       9.10   35\n",
              "\n",
              "[63321 rows x 10 columns]"
            ]
          },
          "metadata": {},
          "execution_count": 58
        }
      ]
    },
    {
      "cell_type": "code",
      "metadata": {
        "execution": {
          "iopub.status.busy": "2021-09-14T10:18:28.734496Z",
          "iopub.execute_input": "2021-09-14T10:18:28.734822Z",
          "iopub.status.idle": "2021-09-14T10:18:28.748304Z",
          "shell.execute_reply.started": "2021-09-14T10:18:28.734789Z",
          "shell.execute_reply": "2021-09-14T10:18:28.747276Z"
        },
        "trusted": true,
        "id": "3_tGIctyJCt8"
      },
      "source": [
        "column_names = [\"Agency\", \"Agency_Type\", \"Distribution_Channel\",\"Product_Name\",\"Duration\",\"Destination\",\"Net_Sales\",\"Commision\",\"Age\",\"Claim\"]\n",
        "df = df.reindex(columns=column_names)"
      ],
      "execution_count": 59,
      "outputs": []
    },
    {
      "cell_type": "markdown",
      "metadata": {
        "id": "knxRxWdxJCt8"
      },
      "source": [
        "Reordered the columns of the dataset to keep the target column i.e. Claim at the end."
      ]
    },
    {
      "cell_type": "code",
      "metadata": {
        "execution": {
          "iopub.status.busy": "2021-09-14T10:18:44.054323Z",
          "iopub.execute_input": "2021-09-14T10:18:44.054608Z",
          "iopub.status.idle": "2021-09-14T10:18:45.016107Z",
          "shell.execute_reply.started": "2021-09-14T10:18:44.054579Z",
          "shell.execute_reply": "2021-09-14T10:18:45.014914Z"
        },
        "trusted": true,
        "colab": {
          "base_uri": "https://localhost:8080/",
          "height": 598
        },
        "id": "ZPP1iROuJCt8",
        "outputId": "71e11ade-ddd3-4827-9d69-f58b2239c10c"
      },
      "source": [
        "plt.figure(figsize = (20,8))\n",
        "sns.heatmap(df.corr(), square=True,annot=True,cmap= 'coolwarm')"
      ],
      "execution_count": 60,
      "outputs": [
        {
          "output_type": "execute_result",
          "data": {
            "text/plain": [
              "<matplotlib.axes._subplots.AxesSubplot at 0x7f4ba1e8fa10>"
            ]
          },
          "metadata": {},
          "execution_count": 60
        },
        {
          "output_type": "display_data",
          "data": {
            "image/png": "[encoded data removed]",
            "text/plain": [
              "<Figure size 1440x576 with 2 Axes>"
            ]
          },
          "metadata": {
            "needs_background": "light"
          }
        }
      ]
    },
    {
      "cell_type": "markdown",
      "metadata": {
        "id": "d5NAIU0MJCt8"
      },
      "source": [
        "Plotted the corelation coefficient to check the degree of colinearity which each individidual feature have with the output label. Clearly there is no high colinearity among any of the features. "
      ]
    },
    {
      "cell_type": "code",
      "metadata": {
        "execution": {
          "iopub.status.busy": "2021-09-14T10:19:01.875604Z",
          "iopub.execute_input": "2021-09-14T10:19:01.875925Z",
          "iopub.status.idle": "2021-09-14T10:19:01.885022Z",
          "shell.execute_reply.started": "2021-09-14T10:19:01.875892Z",
          "shell.execute_reply": "2021-09-14T10:19:01.883968Z"
        },
        "trusted": true,
        "id": "OratbyRJJCt8"
      },
      "source": [
        "y=df.iloc[:,[-1]]\n",
        "X=df.drop(y.columns,axis = 1)"
      ],
      "execution_count": 61,
      "outputs": []
    },
    {
      "cell_type": "markdown",
      "metadata": {
        "id": "0Jk2eHjQJCt8"
      },
      "source": [
        "Sepearting features and target variable into X and y respectively."
      ]
    },
    {
      "cell_type": "code",
      "metadata": {
        "execution": {
          "iopub.status.busy": "2021-09-14T10:19:17.726105Z",
          "iopub.execute_input": "2021-09-14T10:19:17.726417Z",
          "iopub.status.idle": "2021-09-14T10:19:17.746228Z",
          "shell.execute_reply.started": "2021-09-14T10:19:17.726385Z",
          "shell.execute_reply": "2021-09-14T10:19:17.745209Z"
        },
        "trusted": true,
        "colab": {
          "base_uri": "https://localhost:8080/",
          "height": 424
        },
        "id": "i8giYqrpJCt8",
        "outputId": "0759dce9-29fa-4767-9ccc-5c60798f781b"
      },
      "source": [
        "X"
      ],
      "execution_count": 62,
      "outputs": [
        {
          "output_type": "execute_result",
          "data": {
            "text/html": [
              "<div>\n",
              "<style scoped>\n",
              "    .dataframe tbody tr th:only-of-type {\n",
              "        vertical-align: middle;\n",
              "    }\n",
              "\n",
              "    .dataframe tbody tr th {\n",
              "        vertical-align: top;\n",
              "    }\n",
              "\n",
              "    .dataframe thead th {\n",
              "        text-align: right;\n",
              "    }\n",
              "</style>\n",
              "<table border=\"1\" class=\"dataframe\">\n",
              "  <thead>\n",
              "    <tr style=\"text-align: right;\">\n",
              "      <th></th>\n",
              "      <th>Agency</th>\n",
              "      <th>Agency_Type</th>\n",
              "      <th>Distribution_Channel</th>\n",
              "      <th>Product_Name</th>\n",
              "      <th>Duration</th>\n",
              "      <th>Destination</th>\n",
              "      <th>Net_Sales</th>\n",
              "      <th>Commision</th>\n",
              "      <th>Age</th>\n",
              "    </tr>\n",
              "  </thead>\n",
              "  <tbody>\n",
              "    <tr>\n",
              "      <th>0</th>\n",
              "      <td>3</td>\n",
              "      <td>1</td>\n",
              "      <td>0</td>\n",
              "      <td>12</td>\n",
              "      <td>186</td>\n",
              "      <td>79</td>\n",
              "      <td>-29.0</td>\n",
              "      <td>9.57</td>\n",
              "      <td>81</td>\n",
              "    </tr>\n",
              "    <tr>\n",
              "      <th>1</th>\n",
              "      <td>3</td>\n",
              "      <td>1</td>\n",
              "      <td>0</td>\n",
              "      <td>12</td>\n",
              "      <td>186</td>\n",
              "      <td>79</td>\n",
              "      <td>-29.0</td>\n",
              "      <td>9.57</td>\n",
              "      <td>71</td>\n",
              "    </tr>\n",
              "    <tr>\n",
              "      <th>2</th>\n",
              "      <td>6</td>\n",
              "      <td>1</td>\n",
              "      <td>1</td>\n",
              "      <td>16</td>\n",
              "      <td>65</td>\n",
              "      <td>4</td>\n",
              "      <td>-49.5</td>\n",
              "      <td>29.70</td>\n",
              "      <td>32</td>\n",
              "    </tr>\n",
              "    <tr>\n",
              "      <th>3</th>\n",
              "      <td>6</td>\n",
              "      <td>1</td>\n",
              "      <td>1</td>\n",
              "      <td>16</td>\n",
              "      <td>60</td>\n",
              "      <td>4</td>\n",
              "      <td>-39.6</td>\n",
              "      <td>23.76</td>\n",
              "      <td>32</td>\n",
              "    </tr>\n",
              "    <tr>\n",
              "      <th>4</th>\n",
              "      <td>6</td>\n",
              "      <td>1</td>\n",
              "      <td>1</td>\n",
              "      <td>16</td>\n",
              "      <td>79</td>\n",
              "      <td>61</td>\n",
              "      <td>-19.8</td>\n",
              "      <td>11.88</td>\n",
              "      <td>41</td>\n",
              "    </tr>\n",
              "    <tr>\n",
              "      <th>...</th>\n",
              "      <td>...</td>\n",
              "      <td>...</td>\n",
              "      <td>...</td>\n",
              "      <td>...</td>\n",
              "      <td>...</td>\n",
              "      <td>...</td>\n",
              "      <td>...</td>\n",
              "      <td>...</td>\n",
              "      <td>...</td>\n",
              "    </tr>\n",
              "    <tr>\n",
              "      <th>63321</th>\n",
              "      <td>9</td>\n",
              "      <td>0</td>\n",
              "      <td>1</td>\n",
              "      <td>8</td>\n",
              "      <td>111</td>\n",
              "      <td>63</td>\n",
              "      <td>35.0</td>\n",
              "      <td>12.25</td>\n",
              "      <td>31</td>\n",
              "    </tr>\n",
              "    <tr>\n",
              "      <th>63322</th>\n",
              "      <td>9</td>\n",
              "      <td>0</td>\n",
              "      <td>1</td>\n",
              "      <td>8</td>\n",
              "      <td>58</td>\n",
              "      <td>26</td>\n",
              "      <td>40.0</td>\n",
              "      <td>14.00</td>\n",
              "      <td>40</td>\n",
              "    </tr>\n",
              "    <tr>\n",
              "      <th>63323</th>\n",
              "      <td>9</td>\n",
              "      <td>0</td>\n",
              "      <td>1</td>\n",
              "      <td>8</td>\n",
              "      <td>2</td>\n",
              "      <td>79</td>\n",
              "      <td>18.0</td>\n",
              "      <td>6.30</td>\n",
              "      <td>57</td>\n",
              "    </tr>\n",
              "    <tr>\n",
              "      <th>63324</th>\n",
              "      <td>9</td>\n",
              "      <td>0</td>\n",
              "      <td>1</td>\n",
              "      <td>8</td>\n",
              "      <td>3</td>\n",
              "      <td>145</td>\n",
              "      <td>18.0</td>\n",
              "      <td>6.30</td>\n",
              "      <td>63</td>\n",
              "    </tr>\n",
              "    <tr>\n",
              "      <th>63325</th>\n",
              "      <td>9</td>\n",
              "      <td>0</td>\n",
              "      <td>1</td>\n",
              "      <td>8</td>\n",
              "      <td>22</td>\n",
              "      <td>53</td>\n",
              "      <td>26.0</td>\n",
              "      <td>9.10</td>\n",
              "      <td>35</td>\n",
              "    </tr>\n",
              "  </tbody>\n",
              "</table>\n",
              "<p>63321 rows × 9 columns</p>\n",
              "</div>"
            ],
            "text/plain": [
              "       Agency  Agency_Type  Distribution_Channel  ...  Net_Sales  Commision  Age\n",
              "0           3            1                     0  ...      -29.0       9.57   81\n",
              "1           3            1                     0  ...      -29.0       9.57   71\n",
              "2           6            1                     1  ...      -49.5      29.70   32\n",
              "3           6            1                     1  ...      -39.6      23.76   32\n",
              "4           6            1                     1  ...      -19.8      11.88   41\n",
              "...       ...          ...                   ...  ...        ...        ...  ...\n",
              "63321       9            0                     1  ...       35.0      12.25   31\n",
              "63322       9            0                     1  ...       40.0      14.00   40\n",
              "63323       9            0                     1  ...       18.0       6.30   57\n",
              "63324       9            0                     1  ...       18.0       6.30   63\n",
              "63325       9            0                     1  ...       26.0       9.10   35\n",
              "\n",
              "[63321 rows x 9 columns]"
            ]
          },
          "metadata": {},
          "execution_count": 62
        }
      ]
    },
    {
      "cell_type": "code",
      "metadata": {
        "execution": {
          "iopub.status.busy": "2021-09-14T10:19:25.18634Z",
          "iopub.execute_input": "2021-09-14T10:19:25.186646Z",
          "iopub.status.idle": "2021-09-14T10:19:25.197222Z",
          "shell.execute_reply.started": "2021-09-14T10:19:25.186613Z",
          "shell.execute_reply": "2021-09-14T10:19:25.196403Z"
        },
        "trusted": true,
        "colab": {
          "base_uri": "https://localhost:8080/",
          "height": 424
        },
        "id": "s8oMVZlRJCt8",
        "outputId": "e0d9892e-3987-438d-ea15-576890663a9f"
      },
      "source": [
        "y"
      ],
      "execution_count": 63,
      "outputs": [
        {
          "output_type": "execute_result",
          "data": {
            "text/html": [
              "<div>\n",
              "<style scoped>\n",
              "    .dataframe tbody tr th:only-of-type {\n",
              "        vertical-align: middle;\n",
              "    }\n",
              "\n",
              "    .dataframe tbody tr th {\n",
              "        vertical-align: top;\n",
              "    }\n",
              "\n",
              "    .dataframe thead th {\n",
              "        text-align: right;\n",
              "    }\n",
              "</style>\n",
              "<table border=\"1\" class=\"dataframe\">\n",
              "  <thead>\n",
              "    <tr style=\"text-align: right;\">\n",
              "      <th></th>\n",
              "      <th>Claim</th>\n",
              "    </tr>\n",
              "  </thead>\n",
              "  <tbody>\n",
              "    <tr>\n",
              "      <th>0</th>\n",
              "      <td>0</td>\n",
              "    </tr>\n",
              "    <tr>\n",
              "      <th>1</th>\n",
              "      <td>0</td>\n",
              "    </tr>\n",
              "    <tr>\n",
              "      <th>2</th>\n",
              "      <td>0</td>\n",
              "    </tr>\n",
              "    <tr>\n",
              "      <th>3</th>\n",
              "      <td>0</td>\n",
              "    </tr>\n",
              "    <tr>\n",
              "      <th>4</th>\n",
              "      <td>0</td>\n",
              "    </tr>\n",
              "    <tr>\n",
              "      <th>...</th>\n",
              "      <td>...</td>\n",
              "    </tr>\n",
              "    <tr>\n",
              "      <th>63321</th>\n",
              "      <td>0</td>\n",
              "    </tr>\n",
              "    <tr>\n",
              "      <th>63322</th>\n",
              "      <td>0</td>\n",
              "    </tr>\n",
              "    <tr>\n",
              "      <th>63323</th>\n",
              "      <td>0</td>\n",
              "    </tr>\n",
              "    <tr>\n",
              "      <th>63324</th>\n",
              "      <td>0</td>\n",
              "    </tr>\n",
              "    <tr>\n",
              "      <th>63325</th>\n",
              "      <td>0</td>\n",
              "    </tr>\n",
              "  </tbody>\n",
              "</table>\n",
              "<p>63321 rows × 1 columns</p>\n",
              "</div>"
            ],
            "text/plain": [
              "       Claim\n",
              "0          0\n",
              "1          0\n",
              "2          0\n",
              "3          0\n",
              "4          0\n",
              "...      ...\n",
              "63321      0\n",
              "63322      0\n",
              "63323      0\n",
              "63324      0\n",
              "63325      0\n",
              "\n",
              "[63321 rows x 1 columns]"
            ]
          },
          "metadata": {},
          "execution_count": 63
        }
      ]
    }
  ]
}